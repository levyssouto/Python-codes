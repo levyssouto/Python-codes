{
  "nbformat": 4,
  "nbformat_minor": 0,
  "metadata": {
    "colab": {
      "provenance": [],
      "include_colab_link": true
    },
    "kernelspec": {
      "name": "python3",
      "display_name": "Python 3"
    },
    "language_info": {
      "name": "python"
    }
  },
  "cells": [
    {
      "cell_type": "markdown",
      "metadata": {
        "id": "view-in-github",
        "colab_type": "text"
      },
      "source": [
        "<a href=\"https://colab.research.google.com/github/levyssouto/Python-codes/blob/main/Atividades_IA/Atividade_Pr%C3%A1tica_IA.ipynb\" target=\"_parent\"><img src=\"https://colab.research.google.com/assets/colab-badge.svg\" alt=\"Open In Colab\"/></a>"
      ]
    },
    {
      "cell_type": "code",
      "execution_count": 2,
      "metadata": {
        "id": "w5b0-XpARrBW",
        "colab": {
          "base_uri": "https://localhost:8080/"
        },
        "outputId": "b034ce5d-f1db-4fdb-a416-e749c272556d"
      },
      "outputs": [
        {
          "output_type": "stream",
          "name": "stdout",
          "text": [
            "Mounted at /content/drive\n"
          ]
        }
      ],
      "source": [
        "from google.colab import drive #conecta Google colab ao Drive\n",
        "drive.mount('/content/drive')"
      ]
    },
    {
      "cell_type": "code",
      "source": [
        "#!pip install pandas_profiling "
      ],
      "metadata": {
        "id": "vvtPVM7JSsG9"
      },
      "execution_count": 3,
      "outputs": []
    },
    {
      "cell_type": "code",
      "source": [
        "#!pip install sweetviz"
      ],
      "metadata": {
        "id": "1QkXgxWT8Kt0"
      },
      "execution_count": 4,
      "outputs": []
    },
    {
      "cell_type": "code",
      "source": [
        "import pandas as pd #importa bibliotecas necessárias à Análise de Dados \n",
        "import numpy as np\n",
        "import math\n",
        "import matplotlib.pyplot as plt\n",
        "import seaborn as sns\n",
        "import pickle\n",
        "#import sweetviz as sv\n",
        "#from pandas_profiling import ProfileReport\n"
      ],
      "metadata": {
        "id": "90XLoi9YymB1"
      },
      "execution_count": 5,
      "outputs": []
    },
    {
      "cell_type": "markdown",
      "source": [
        "# **ANÁLISE EXPLORATÓRIA**"
      ],
      "metadata": {
        "id": "rgWfGBNcW-Vn"
      }
    },
    {
      "cell_type": "code",
      "source": [
        "path = '/content/drive/MyDrive/Atividades_IA/base_arrumada.csv'\n",
        "\n",
        "def inicia_dataset(path): #função para iniciar o dataset ou reiniciar caso necessário\n",
        "  reclamacoes = pd.read_csv(path,sep=';',on_bad_lines='skip') #exclui badlines devido ao erro de tokenização\n",
        "  return reclamacoes\n",
        "\n",
        "reclamacoes=inicia_dataset(path) #inicia e reinicia dataset  "
      ],
      "metadata": {
        "id": "AEWzDdgD8hUl",
        "colab": {
          "base_uri": "https://localhost:8080/"
        },
        "outputId": "8f52bf98-7782-4249-8054-594e4e83228b"
      },
      "execution_count": 6,
      "outputs": [
        {
          "output_type": "stream",
          "name": "stderr",
          "text": [
            "<ipython-input-6-770adf7558f8>:4: DtypeWarning: Columns (8,10,13,16,18,22,23) have mixed types. Specify dtype option on import or set low_memory=False.\n",
            "  reclamacoes = pd.read_csv(path,sep=';',on_bad_lines='skip') #exclui badlines devido ao erro de tokenização\n"
          ]
        }
      ]
    },
    {
      "cell_type": "code",
      "source": [
        "print(\"Formato do dataset: \",reclamacoes.shape) \n",
        "reclamacoes.head()"
      ],
      "metadata": {
        "colab": {
          "base_uri": "https://localhost:8080/",
          "height": 525
        },
        "id": "XGGe8v7lCMsC",
        "outputId": "88db8159-2e6a-417b-d2a6-df7d68fc09bb"
      },
      "execution_count": 7,
      "outputs": [
        {
          "output_type": "stream",
          "name": "stdout",
          "text": [
            "Formato do dataset:  (113466, 25)\n"
          ]
        },
        {
          "output_type": "execute_result",
          "data": {
            "text/plain": [
              "   AnoCalendario         DataArquivamento             DataAbertura  \\\n",
              "0           2017  2017-03-14 15:17:52.000  2015-04-13 15:58:14.000   \n",
              "1           2017  2017-03-14 15:17:52.000  2015-04-13 15:58:14.000   \n",
              "2           2017  2017-03-03 14:00:12.000  2015-04-13 17:03:21.000   \n",
              "3           2017  2017-03-03 14:00:12.000  2015-04-13 17:03:21.000   \n",
              "4           2017  2017-12-12 14:40:31.000  2015-04-14 09:06:13.000   \n",
              "\n",
              "   CodigoRegiao        Regiao  UF                       strRazaoSocial  \\\n",
              "0             5  Centro-oeste  GO             ASSURANT SEGURADORA S.A.   \n",
              "1             5  Centro-oeste  GO  NOVO MUNDO MOVEIS E UTILIDADES LTDA   \n",
              "2             5  Centro-oeste  GO             ASSURANT SEGURADORA S.A.   \n",
              "3             5  Centro-oeste  GO  NOVO MUNDO MOVEIS E UTILIDADES LTDA   \n",
              "4             1         Norte  TO   BANCO BRADESCO FINANCIAMENTOS S.A.   \n",
              "\n",
              "                      strNomeFantasia Tipo   NumeroCNPJ  ... Atendida  \\\n",
              "0            ASSURANT SEGURADORA S.A.    1   3,8237E+12  ...        S   \n",
              "1                          NOVO MUNDO    1  1,53408E+12  ...        S   \n",
              "2            ASSURANT SEGURADORA S.A.    1   3,8237E+12  ...        S   \n",
              "3                          NOVO MUNDO    1  1,53408E+12  ...        S   \n",
              "4  BANCO BRADESCO FINANCIAMENTOS S.A.    1    7,208E+12  ...        N   \n",
              "\n",
              "  CodigoAssunto                           DescricaoAssunto CodigoProblema  \\\n",
              "0           122                         Móveis Para Quarto         2338.0   \n",
              "1           122                         Móveis Para Quarto         2338.0   \n",
              "2            92  Máquina de Lavar Roupa / Louça e Secadora         2493.0   \n",
              "3            92  Máquina de Lavar Roupa / Louça e Secadora         2493.0   \n",
              "4            53                            Banco comercial         6915.0   \n",
              "\n",
              "                         DescricaoProblema SexoConsumidor  \\\n",
              "0  Garantia (Abrangência, cobertura, etc.)              F   \n",
              "1  Garantia (Abrangência, cobertura, etc.)              F   \n",
              "2                        Produto com vício              F   \n",
              "3                        Produto com vício              F   \n",
              "4                       Crédito Consignado              M   \n",
              "\n",
              "  FaixaEtariaConsumidor CEPConsumidor Unnamed: 23 Unnamed: 24  \n",
              "0    entre 51 a 60 anos    75075560.0         NaN         NaN  \n",
              "1    entre 51 a 60 anos    75075560.0         NaN         NaN  \n",
              "2         Nao Informada    75000000.0         NaN         NaN  \n",
              "3         Nao Informada    75000000.0         NaN         NaN  \n",
              "4    entre 51 a 60 anos    77970000.0         NaN         NaN  \n",
              "\n",
              "[5 rows x 25 columns]"
            ],
            "text/html": [
              "\n",
              "  <div id=\"df-30a463c6-2a19-49f0-9637-6b246fe24790\">\n",
              "    <div class=\"colab-df-container\">\n",
              "      <div>\n",
              "<style scoped>\n",
              "    .dataframe tbody tr th:only-of-type {\n",
              "        vertical-align: middle;\n",
              "    }\n",
              "\n",
              "    .dataframe tbody tr th {\n",
              "        vertical-align: top;\n",
              "    }\n",
              "\n",
              "    .dataframe thead th {\n",
              "        text-align: right;\n",
              "    }\n",
              "</style>\n",
              "<table border=\"1\" class=\"dataframe\">\n",
              "  <thead>\n",
              "    <tr style=\"text-align: right;\">\n",
              "      <th></th>\n",
              "      <th>AnoCalendario</th>\n",
              "      <th>DataArquivamento</th>\n",
              "      <th>DataAbertura</th>\n",
              "      <th>CodigoRegiao</th>\n",
              "      <th>Regiao</th>\n",
              "      <th>UF</th>\n",
              "      <th>strRazaoSocial</th>\n",
              "      <th>strNomeFantasia</th>\n",
              "      <th>Tipo</th>\n",
              "      <th>NumeroCNPJ</th>\n",
              "      <th>...</th>\n",
              "      <th>Atendida</th>\n",
              "      <th>CodigoAssunto</th>\n",
              "      <th>DescricaoAssunto</th>\n",
              "      <th>CodigoProblema</th>\n",
              "      <th>DescricaoProblema</th>\n",
              "      <th>SexoConsumidor</th>\n",
              "      <th>FaixaEtariaConsumidor</th>\n",
              "      <th>CEPConsumidor</th>\n",
              "      <th>Unnamed: 23</th>\n",
              "      <th>Unnamed: 24</th>\n",
              "    </tr>\n",
              "  </thead>\n",
              "  <tbody>\n",
              "    <tr>\n",
              "      <th>0</th>\n",
              "      <td>2017</td>\n",
              "      <td>2017-03-14 15:17:52.000</td>\n",
              "      <td>2015-04-13 15:58:14.000</td>\n",
              "      <td>5</td>\n",
              "      <td>Centro-oeste</td>\n",
              "      <td>GO</td>\n",
              "      <td>ASSURANT SEGURADORA S.A.</td>\n",
              "      <td>ASSURANT SEGURADORA S.A.</td>\n",
              "      <td>1</td>\n",
              "      <td>3,8237E+12</td>\n",
              "      <td>...</td>\n",
              "      <td>S</td>\n",
              "      <td>122</td>\n",
              "      <td>Móveis Para Quarto</td>\n",
              "      <td>2338.0</td>\n",
              "      <td>Garantia (Abrangência, cobertura, etc.)</td>\n",
              "      <td>F</td>\n",
              "      <td>entre 51 a 60 anos</td>\n",
              "      <td>75075560.0</td>\n",
              "      <td>NaN</td>\n",
              "      <td>NaN</td>\n",
              "    </tr>\n",
              "    <tr>\n",
              "      <th>1</th>\n",
              "      <td>2017</td>\n",
              "      <td>2017-03-14 15:17:52.000</td>\n",
              "      <td>2015-04-13 15:58:14.000</td>\n",
              "      <td>5</td>\n",
              "      <td>Centro-oeste</td>\n",
              "      <td>GO</td>\n",
              "      <td>NOVO MUNDO MOVEIS E UTILIDADES LTDA</td>\n",
              "      <td>NOVO MUNDO</td>\n",
              "      <td>1</td>\n",
              "      <td>1,53408E+12</td>\n",
              "      <td>...</td>\n",
              "      <td>S</td>\n",
              "      <td>122</td>\n",
              "      <td>Móveis Para Quarto</td>\n",
              "      <td>2338.0</td>\n",
              "      <td>Garantia (Abrangência, cobertura, etc.)</td>\n",
              "      <td>F</td>\n",
              "      <td>entre 51 a 60 anos</td>\n",
              "      <td>75075560.0</td>\n",
              "      <td>NaN</td>\n",
              "      <td>NaN</td>\n",
              "    </tr>\n",
              "    <tr>\n",
              "      <th>2</th>\n",
              "      <td>2017</td>\n",
              "      <td>2017-03-03 14:00:12.000</td>\n",
              "      <td>2015-04-13 17:03:21.000</td>\n",
              "      <td>5</td>\n",
              "      <td>Centro-oeste</td>\n",
              "      <td>GO</td>\n",
              "      <td>ASSURANT SEGURADORA S.A.</td>\n",
              "      <td>ASSURANT SEGURADORA S.A.</td>\n",
              "      <td>1</td>\n",
              "      <td>3,8237E+12</td>\n",
              "      <td>...</td>\n",
              "      <td>S</td>\n",
              "      <td>92</td>\n",
              "      <td>Máquina de Lavar Roupa / Louça e Secadora</td>\n",
              "      <td>2493.0</td>\n",
              "      <td>Produto com vício</td>\n",
              "      <td>F</td>\n",
              "      <td>Nao Informada</td>\n",
              "      <td>75000000.0</td>\n",
              "      <td>NaN</td>\n",
              "      <td>NaN</td>\n",
              "    </tr>\n",
              "    <tr>\n",
              "      <th>3</th>\n",
              "      <td>2017</td>\n",
              "      <td>2017-03-03 14:00:12.000</td>\n",
              "      <td>2015-04-13 17:03:21.000</td>\n",
              "      <td>5</td>\n",
              "      <td>Centro-oeste</td>\n",
              "      <td>GO</td>\n",
              "      <td>NOVO MUNDO MOVEIS E UTILIDADES LTDA</td>\n",
              "      <td>NOVO MUNDO</td>\n",
              "      <td>1</td>\n",
              "      <td>1,53408E+12</td>\n",
              "      <td>...</td>\n",
              "      <td>S</td>\n",
              "      <td>92</td>\n",
              "      <td>Máquina de Lavar Roupa / Louça e Secadora</td>\n",
              "      <td>2493.0</td>\n",
              "      <td>Produto com vício</td>\n",
              "      <td>F</td>\n",
              "      <td>Nao Informada</td>\n",
              "      <td>75000000.0</td>\n",
              "      <td>NaN</td>\n",
              "      <td>NaN</td>\n",
              "    </tr>\n",
              "    <tr>\n",
              "      <th>4</th>\n",
              "      <td>2017</td>\n",
              "      <td>2017-12-12 14:40:31.000</td>\n",
              "      <td>2015-04-14 09:06:13.000</td>\n",
              "      <td>1</td>\n",
              "      <td>Norte</td>\n",
              "      <td>TO</td>\n",
              "      <td>BANCO BRADESCO FINANCIAMENTOS S.A.</td>\n",
              "      <td>BANCO BRADESCO FINANCIAMENTOS S.A.</td>\n",
              "      <td>1</td>\n",
              "      <td>7,208E+12</td>\n",
              "      <td>...</td>\n",
              "      <td>N</td>\n",
              "      <td>53</td>\n",
              "      <td>Banco comercial</td>\n",
              "      <td>6915.0</td>\n",
              "      <td>Crédito Consignado</td>\n",
              "      <td>M</td>\n",
              "      <td>entre 51 a 60 anos</td>\n",
              "      <td>77970000.0</td>\n",
              "      <td>NaN</td>\n",
              "      <td>NaN</td>\n",
              "    </tr>\n",
              "  </tbody>\n",
              "</table>\n",
              "<p>5 rows × 25 columns</p>\n",
              "</div>\n",
              "      <button class=\"colab-df-convert\" onclick=\"convertToInteractive('df-30a463c6-2a19-49f0-9637-6b246fe24790')\"\n",
              "              title=\"Convert this dataframe to an interactive table.\"\n",
              "              style=\"display:none;\">\n",
              "        \n",
              "  <svg xmlns=\"http://www.w3.org/2000/svg\" height=\"24px\"viewBox=\"0 0 24 24\"\n",
              "       width=\"24px\">\n",
              "    <path d=\"M0 0h24v24H0V0z\" fill=\"none\"/>\n",
              "    <path d=\"M18.56 5.44l.94 2.06.94-2.06 2.06-.94-2.06-.94-.94-2.06-.94 2.06-2.06.94zm-11 1L8.5 8.5l.94-2.06 2.06-.94-2.06-.94L8.5 2.5l-.94 2.06-2.06.94zm10 10l.94 2.06.94-2.06 2.06-.94-2.06-.94-.94-2.06-.94 2.06-2.06.94z\"/><path d=\"M17.41 7.96l-1.37-1.37c-.4-.4-.92-.59-1.43-.59-.52 0-1.04.2-1.43.59L10.3 9.45l-7.72 7.72c-.78.78-.78 2.05 0 2.83L4 21.41c.39.39.9.59 1.41.59.51 0 1.02-.2 1.41-.59l7.78-7.78 2.81-2.81c.8-.78.8-2.07 0-2.86zM5.41 20L4 18.59l7.72-7.72 1.47 1.35L5.41 20z\"/>\n",
              "  </svg>\n",
              "      </button>\n",
              "      \n",
              "  <style>\n",
              "    .colab-df-container {\n",
              "      display:flex;\n",
              "      flex-wrap:wrap;\n",
              "      gap: 12px;\n",
              "    }\n",
              "\n",
              "    .colab-df-convert {\n",
              "      background-color: #E8F0FE;\n",
              "      border: none;\n",
              "      border-radius: 50%;\n",
              "      cursor: pointer;\n",
              "      display: none;\n",
              "      fill: #1967D2;\n",
              "      height: 32px;\n",
              "      padding: 0 0 0 0;\n",
              "      width: 32px;\n",
              "    }\n",
              "\n",
              "    .colab-df-convert:hover {\n",
              "      background-color: #E2EBFA;\n",
              "      box-shadow: 0px 1px 2px rgba(60, 64, 67, 0.3), 0px 1px 3px 1px rgba(60, 64, 67, 0.15);\n",
              "      fill: #174EA6;\n",
              "    }\n",
              "\n",
              "    [theme=dark] .colab-df-convert {\n",
              "      background-color: #3B4455;\n",
              "      fill: #D2E3FC;\n",
              "    }\n",
              "\n",
              "    [theme=dark] .colab-df-convert:hover {\n",
              "      background-color: #434B5C;\n",
              "      box-shadow: 0px 1px 3px 1px rgba(0, 0, 0, 0.15);\n",
              "      filter: drop-shadow(0px 1px 2px rgba(0, 0, 0, 0.3));\n",
              "      fill: #FFFFFF;\n",
              "    }\n",
              "  </style>\n",
              "\n",
              "      <script>\n",
              "        const buttonEl =\n",
              "          document.querySelector('#df-30a463c6-2a19-49f0-9637-6b246fe24790 button.colab-df-convert');\n",
              "        buttonEl.style.display =\n",
              "          google.colab.kernel.accessAllowed ? 'block' : 'none';\n",
              "\n",
              "        async function convertToInteractive(key) {\n",
              "          const element = document.querySelector('#df-30a463c6-2a19-49f0-9637-6b246fe24790');\n",
              "          const dataTable =\n",
              "            await google.colab.kernel.invokeFunction('convertToInteractive',\n",
              "                                                     [key], {});\n",
              "          if (!dataTable) return;\n",
              "\n",
              "          const docLinkHtml = 'Like what you see? Visit the ' +\n",
              "            '<a target=\"_blank\" href=https://colab.research.google.com/notebooks/data_table.ipynb>data table notebook</a>'\n",
              "            + ' to learn more about interactive tables.';\n",
              "          element.innerHTML = '';\n",
              "          dataTable['output_type'] = 'display_data';\n",
              "          await google.colab.output.renderOutput(dataTable, element);\n",
              "          const docLink = document.createElement('div');\n",
              "          docLink.innerHTML = docLinkHtml;\n",
              "          element.appendChild(docLink);\n",
              "        }\n",
              "      </script>\n",
              "    </div>\n",
              "  </div>\n",
              "  "
            ]
          },
          "metadata": {},
          "execution_count": 7
        }
      ]
    },
    {
      "cell_type": "code",
      "source": [
        "#Verificar tipos de dados de cada coluna e a quantidade de valores não nulos \n",
        "print(\"Tipos de dados das colunas: \\n\")\n",
        "reclamacoes.info()"
      ],
      "metadata": {
        "colab": {
          "base_uri": "https://localhost:8080/"
        },
        "id": "q_owHL7_D_U2",
        "outputId": "24d467c6-e385-4c89-ef0e-c21659960b87"
      },
      "execution_count": 8,
      "outputs": [
        {
          "output_type": "stream",
          "name": "stdout",
          "text": [
            "Tipos de dados das colunas: \n",
            "\n",
            "<class 'pandas.core.frame.DataFrame'>\n",
            "RangeIndex: 113466 entries, 0 to 113465\n",
            "Data columns (total 25 columns):\n",
            " #   Column                 Non-Null Count   Dtype  \n",
            "---  ------                 --------------   -----  \n",
            " 0   AnoCalendario          113466 non-null  int64  \n",
            " 1   DataArquivamento       113443 non-null  object \n",
            " 2   DataAbertura           113456 non-null  object \n",
            " 3   CodigoRegiao           113466 non-null  int64  \n",
            " 4   Regiao                 113466 non-null  object \n",
            " 5   UF                     113466 non-null  object \n",
            " 6   strRazaoSocial         113463 non-null  object \n",
            " 7   strNomeFantasia        93722 non-null   object \n",
            " 8   Tipo                   113466 non-null  object \n",
            " 9   NumeroCNPJ             107333 non-null  object \n",
            " 10  RadicalCNPJ            107096 non-null  object \n",
            " 11  RazaoSocialRFB         97982 non-null   object \n",
            " 12  NomeFantasiaRFB        48016 non-null   object \n",
            " 13  CNAEPrincipal          97969 non-null   object \n",
            " 14  DescCNAEPrincipal      97430 non-null   object \n",
            " 15  Atendida               113466 non-null  object \n",
            " 16  CodigoAssunto          113452 non-null  object \n",
            " 17  DescricaoAssunto       113452 non-null  object \n",
            " 18  CodigoProblema         48636 non-null   object \n",
            " 19  DescricaoProblema      48612 non-null   object \n",
            " 20  SexoConsumidor         113396 non-null  object \n",
            " 21  FaixaEtariaConsumidor  113455 non-null  object \n",
            " 22  CEPConsumidor          101483 non-null  object \n",
            " 23  Unnamed: 23            43 non-null      object \n",
            " 24  Unnamed: 24            20 non-null      float64\n",
            "dtypes: float64(1), int64(2), object(22)\n",
            "memory usage: 21.6+ MB\n"
          ]
        }
      ]
    },
    {
      "cell_type": "code",
      "source": [
        "print(\"Quantidade de valores faltantes no Dataset: \\n\") # verifica valores NULL\n",
        "reclamacoes.isna().sum() #Eliminar arquivamento, abertura, faixa etaria, codigo assunto"
      ],
      "metadata": {
        "colab": {
          "base_uri": "https://localhost:8080/"
        },
        "id": "pxsrTi5N7N3y",
        "outputId": "53e8393c-eb82-426f-a42c-824ee61e437d"
      },
      "execution_count": 9,
      "outputs": [
        {
          "output_type": "stream",
          "name": "stdout",
          "text": [
            "Quantidade de valores faltantes no Dataset: \n",
            "\n"
          ]
        },
        {
          "output_type": "execute_result",
          "data": {
            "text/plain": [
              "AnoCalendario                 0\n",
              "DataArquivamento             23\n",
              "DataAbertura                 10\n",
              "CodigoRegiao                  0\n",
              "Regiao                        0\n",
              "UF                            0\n",
              "strRazaoSocial                3\n",
              "strNomeFantasia           19744\n",
              "Tipo                          0\n",
              "NumeroCNPJ                 6133\n",
              "RadicalCNPJ                6370\n",
              "RazaoSocialRFB            15484\n",
              "NomeFantasiaRFB           65450\n",
              "CNAEPrincipal             15497\n",
              "DescCNAEPrincipal         16036\n",
              "Atendida                      0\n",
              "CodigoAssunto                14\n",
              "DescricaoAssunto             14\n",
              "CodigoProblema            64830\n",
              "DescricaoProblema         64854\n",
              "SexoConsumidor               70\n",
              "FaixaEtariaConsumidor        11\n",
              "CEPConsumidor             11983\n",
              "Unnamed: 23              113423\n",
              "Unnamed: 24              113446\n",
              "dtype: int64"
            ]
          },
          "metadata": {},
          "execution_count": 9
        }
      ]
    },
    {
      "cell_type": "markdown",
      "source": [
        "### **ESTATÍSTICA DESCRITIVA E PREPARAÇÃO DE DADOS:**\n",
        "\n",
        "\n"
      ],
      "metadata": {
        "id": "wQP2eMLPerQr"
      }
    },
    {
      "cell_type": "code",
      "source": [
        "#Tirar colunas não necessárias á estatística descritiva\n",
        "#excluir colunas com valores nominais\n",
        "reclamacoes = inicia_dataset(path)\n",
        "rec_estatistica = reclamacoes\n",
        "remove_colunas = [\"Tipo\",\"CodigoProblema\",\"strRazaoSocial\",\"NumeroCNPJ\",\"RadicalCNPJ\",\"RazaoSocialRFB\",\n",
        "                  \"NomeFantasiaRFB\",\"CNAEPrincipal\",\"DescCNAEPrincipal\",\n",
        "                  \"CEPConsumidor\",\"Unnamed: 23\",\"Unnamed: 24\"]\n",
        "rec_estatistica.drop(remove_colunas,axis='columns',inplace=True)\n"
      ],
      "metadata": {
        "colab": {
          "base_uri": "https://localhost:8080/"
        },
        "id": "dzIxHGnsdo88",
        "outputId": "02516488-6e1e-432c-fa42-7aba7680b97d"
      },
      "execution_count": 10,
      "outputs": [
        {
          "output_type": "stream",
          "name": "stderr",
          "text": [
            "<ipython-input-6-770adf7558f8>:4: DtypeWarning: Columns (8,10,13,16,18,22,23) have mixed types. Specify dtype option on import or set low_memory=False.\n",
            "  reclamacoes = pd.read_csv(path,sep=';',on_bad_lines='skip') #exclui badlines devido ao erro de tokenização\n"
          ]
        }
      ]
    },
    {
      "cell_type": "code",
      "source": [
        "#CONVERTER CAMPOS DE DATA DE INT PARA CHAR E DE CHAR PARA DATETIME\n",
        "rec_estatistica['DataAbertura'] = pd.to_datetime(rec_estatistica['DataAbertura']) #converte pra datetime\n",
        "rec_estatistica['DataAbertura'] = rec_estatistica['DataAbertura'].dt.strftime('%Y-%m-%d') #converte de volta pra string\n",
        "rec_estatistica['DataAbertura'] = pd.to_datetime(rec_estatistica['DataAbertura']) #converte pra datetime\n",
        " \n",
        "\n",
        "rec_estatistica['DataArquivamento'] = pd.to_datetime(rec_estatistica['DataArquivamento'])\n",
        "rec_estatistica['DataArquivamento'] = rec_estatistica['DataArquivamento'].dt.strftime('%Y-%m-%d')\n",
        "rec_estatistica['DataArquivamento'] = pd.to_datetime(rec_estatistica['DataArquivamento'])\n",
        "\n",
        "rec_estatistica.info() # DataArquivamento e DataAbertura foram convertidos para datetime64"
      ],
      "metadata": {
        "id": "geNtTAmsCTfV",
        "colab": {
          "base_uri": "https://localhost:8080/"
        },
        "outputId": "9efb10bf-25f3-42b9-bb44-f92e8b08f413"
      },
      "execution_count": 11,
      "outputs": [
        {
          "output_type": "stream",
          "name": "stdout",
          "text": [
            "<class 'pandas.core.frame.DataFrame'>\n",
            "RangeIndex: 113466 entries, 0 to 113465\n",
            "Data columns (total 13 columns):\n",
            " #   Column                 Non-Null Count   Dtype         \n",
            "---  ------                 --------------   -----         \n",
            " 0   AnoCalendario          113466 non-null  int64         \n",
            " 1   DataArquivamento       113443 non-null  datetime64[ns]\n",
            " 2   DataAbertura           113456 non-null  datetime64[ns]\n",
            " 3   CodigoRegiao           113466 non-null  int64         \n",
            " 4   Regiao                 113466 non-null  object        \n",
            " 5   UF                     113466 non-null  object        \n",
            " 6   strNomeFantasia        93722 non-null   object        \n",
            " 7   Atendida               113466 non-null  object        \n",
            " 8   CodigoAssunto          113452 non-null  object        \n",
            " 9   DescricaoAssunto       113452 non-null  object        \n",
            " 10  DescricaoProblema      48612 non-null   object        \n",
            " 11  SexoConsumidor         113396 non-null  object        \n",
            " 12  FaixaEtariaConsumidor  113455 non-null  object        \n",
            "dtypes: datetime64[ns](2), int64(2), object(9)\n",
            "memory usage: 11.3+ MB\n"
          ]
        }
      ]
    },
    {
      "cell_type": "code",
      "source": [
        "rec_estatistica.head()"
      ],
      "metadata": {
        "colab": {
          "base_uri": "https://localhost:8080/",
          "height": 461
        },
        "id": "BcWtwBDiOFF1",
        "outputId": "651befba-7b58-4b37-d8e5-1fb42c80974b"
      },
      "execution_count": 12,
      "outputs": [
        {
          "output_type": "execute_result",
          "data": {
            "text/plain": [
              "   AnoCalendario DataArquivamento DataAbertura  CodigoRegiao        Regiao  \\\n",
              "0           2017       2017-03-14   2015-04-13             5  Centro-oeste   \n",
              "1           2017       2017-03-14   2015-04-13             5  Centro-oeste   \n",
              "2           2017       2017-03-03   2015-04-13             5  Centro-oeste   \n",
              "3           2017       2017-03-03   2015-04-13             5  Centro-oeste   \n",
              "4           2017       2017-12-12   2015-04-14             1         Norte   \n",
              "\n",
              "   UF                     strNomeFantasia Atendida CodigoAssunto  \\\n",
              "0  GO            ASSURANT SEGURADORA S.A.        S           122   \n",
              "1  GO                          NOVO MUNDO        S           122   \n",
              "2  GO            ASSURANT SEGURADORA S.A.        S            92   \n",
              "3  GO                          NOVO MUNDO        S            92   \n",
              "4  TO  BANCO BRADESCO FINANCIAMENTOS S.A.        N            53   \n",
              "\n",
              "                            DescricaoAssunto  \\\n",
              "0                         Móveis Para Quarto   \n",
              "1                         Móveis Para Quarto   \n",
              "2  Máquina de Lavar Roupa / Louça e Secadora   \n",
              "3  Máquina de Lavar Roupa / Louça e Secadora   \n",
              "4                            Banco comercial   \n",
              "\n",
              "                         DescricaoProblema SexoConsumidor  \\\n",
              "0  Garantia (Abrangência, cobertura, etc.)              F   \n",
              "1  Garantia (Abrangência, cobertura, etc.)              F   \n",
              "2                        Produto com vício              F   \n",
              "3                        Produto com vício              F   \n",
              "4                       Crédito Consignado              M   \n",
              "\n",
              "  FaixaEtariaConsumidor  \n",
              "0    entre 51 a 60 anos  \n",
              "1    entre 51 a 60 anos  \n",
              "2         Nao Informada  \n",
              "3         Nao Informada  \n",
              "4    entre 51 a 60 anos  "
            ],
            "text/html": [
              "\n",
              "  <div id=\"df-ea29adaa-f595-4ff8-ba04-f64a87c5189e\">\n",
              "    <div class=\"colab-df-container\">\n",
              "      <div>\n",
              "<style scoped>\n",
              "    .dataframe tbody tr th:only-of-type {\n",
              "        vertical-align: middle;\n",
              "    }\n",
              "\n",
              "    .dataframe tbody tr th {\n",
              "        vertical-align: top;\n",
              "    }\n",
              "\n",
              "    .dataframe thead th {\n",
              "        text-align: right;\n",
              "    }\n",
              "</style>\n",
              "<table border=\"1\" class=\"dataframe\">\n",
              "  <thead>\n",
              "    <tr style=\"text-align: right;\">\n",
              "      <th></th>\n",
              "      <th>AnoCalendario</th>\n",
              "      <th>DataArquivamento</th>\n",
              "      <th>DataAbertura</th>\n",
              "      <th>CodigoRegiao</th>\n",
              "      <th>Regiao</th>\n",
              "      <th>UF</th>\n",
              "      <th>strNomeFantasia</th>\n",
              "      <th>Atendida</th>\n",
              "      <th>CodigoAssunto</th>\n",
              "      <th>DescricaoAssunto</th>\n",
              "      <th>DescricaoProblema</th>\n",
              "      <th>SexoConsumidor</th>\n",
              "      <th>FaixaEtariaConsumidor</th>\n",
              "    </tr>\n",
              "  </thead>\n",
              "  <tbody>\n",
              "    <tr>\n",
              "      <th>0</th>\n",
              "      <td>2017</td>\n",
              "      <td>2017-03-14</td>\n",
              "      <td>2015-04-13</td>\n",
              "      <td>5</td>\n",
              "      <td>Centro-oeste</td>\n",
              "      <td>GO</td>\n",
              "      <td>ASSURANT SEGURADORA S.A.</td>\n",
              "      <td>S</td>\n",
              "      <td>122</td>\n",
              "      <td>Móveis Para Quarto</td>\n",
              "      <td>Garantia (Abrangência, cobertura, etc.)</td>\n",
              "      <td>F</td>\n",
              "      <td>entre 51 a 60 anos</td>\n",
              "    </tr>\n",
              "    <tr>\n",
              "      <th>1</th>\n",
              "      <td>2017</td>\n",
              "      <td>2017-03-14</td>\n",
              "      <td>2015-04-13</td>\n",
              "      <td>5</td>\n",
              "      <td>Centro-oeste</td>\n",
              "      <td>GO</td>\n",
              "      <td>NOVO MUNDO</td>\n",
              "      <td>S</td>\n",
              "      <td>122</td>\n",
              "      <td>Móveis Para Quarto</td>\n",
              "      <td>Garantia (Abrangência, cobertura, etc.)</td>\n",
              "      <td>F</td>\n",
              "      <td>entre 51 a 60 anos</td>\n",
              "    </tr>\n",
              "    <tr>\n",
              "      <th>2</th>\n",
              "      <td>2017</td>\n",
              "      <td>2017-03-03</td>\n",
              "      <td>2015-04-13</td>\n",
              "      <td>5</td>\n",
              "      <td>Centro-oeste</td>\n",
              "      <td>GO</td>\n",
              "      <td>ASSURANT SEGURADORA S.A.</td>\n",
              "      <td>S</td>\n",
              "      <td>92</td>\n",
              "      <td>Máquina de Lavar Roupa / Louça e Secadora</td>\n",
              "      <td>Produto com vício</td>\n",
              "      <td>F</td>\n",
              "      <td>Nao Informada</td>\n",
              "    </tr>\n",
              "    <tr>\n",
              "      <th>3</th>\n",
              "      <td>2017</td>\n",
              "      <td>2017-03-03</td>\n",
              "      <td>2015-04-13</td>\n",
              "      <td>5</td>\n",
              "      <td>Centro-oeste</td>\n",
              "      <td>GO</td>\n",
              "      <td>NOVO MUNDO</td>\n",
              "      <td>S</td>\n",
              "      <td>92</td>\n",
              "      <td>Máquina de Lavar Roupa / Louça e Secadora</td>\n",
              "      <td>Produto com vício</td>\n",
              "      <td>F</td>\n",
              "      <td>Nao Informada</td>\n",
              "    </tr>\n",
              "    <tr>\n",
              "      <th>4</th>\n",
              "      <td>2017</td>\n",
              "      <td>2017-12-12</td>\n",
              "      <td>2015-04-14</td>\n",
              "      <td>1</td>\n",
              "      <td>Norte</td>\n",
              "      <td>TO</td>\n",
              "      <td>BANCO BRADESCO FINANCIAMENTOS S.A.</td>\n",
              "      <td>N</td>\n",
              "      <td>53</td>\n",
              "      <td>Banco comercial</td>\n",
              "      <td>Crédito Consignado</td>\n",
              "      <td>M</td>\n",
              "      <td>entre 51 a 60 anos</td>\n",
              "    </tr>\n",
              "  </tbody>\n",
              "</table>\n",
              "</div>\n",
              "      <button class=\"colab-df-convert\" onclick=\"convertToInteractive('df-ea29adaa-f595-4ff8-ba04-f64a87c5189e')\"\n",
              "              title=\"Convert this dataframe to an interactive table.\"\n",
              "              style=\"display:none;\">\n",
              "        \n",
              "  <svg xmlns=\"http://www.w3.org/2000/svg\" height=\"24px\"viewBox=\"0 0 24 24\"\n",
              "       width=\"24px\">\n",
              "    <path d=\"M0 0h24v24H0V0z\" fill=\"none\"/>\n",
              "    <path d=\"M18.56 5.44l.94 2.06.94-2.06 2.06-.94-2.06-.94-.94-2.06-.94 2.06-2.06.94zm-11 1L8.5 8.5l.94-2.06 2.06-.94-2.06-.94L8.5 2.5l-.94 2.06-2.06.94zm10 10l.94 2.06.94-2.06 2.06-.94-2.06-.94-.94-2.06-.94 2.06-2.06.94z\"/><path d=\"M17.41 7.96l-1.37-1.37c-.4-.4-.92-.59-1.43-.59-.52 0-1.04.2-1.43.59L10.3 9.45l-7.72 7.72c-.78.78-.78 2.05 0 2.83L4 21.41c.39.39.9.59 1.41.59.51 0 1.02-.2 1.41-.59l7.78-7.78 2.81-2.81c.8-.78.8-2.07 0-2.86zM5.41 20L4 18.59l7.72-7.72 1.47 1.35L5.41 20z\"/>\n",
              "  </svg>\n",
              "      </button>\n",
              "      \n",
              "  <style>\n",
              "    .colab-df-container {\n",
              "      display:flex;\n",
              "      flex-wrap:wrap;\n",
              "      gap: 12px;\n",
              "    }\n",
              "\n",
              "    .colab-df-convert {\n",
              "      background-color: #E8F0FE;\n",
              "      border: none;\n",
              "      border-radius: 50%;\n",
              "      cursor: pointer;\n",
              "      display: none;\n",
              "      fill: #1967D2;\n",
              "      height: 32px;\n",
              "      padding: 0 0 0 0;\n",
              "      width: 32px;\n",
              "    }\n",
              "\n",
              "    .colab-df-convert:hover {\n",
              "      background-color: #E2EBFA;\n",
              "      box-shadow: 0px 1px 2px rgba(60, 64, 67, 0.3), 0px 1px 3px 1px rgba(60, 64, 67, 0.15);\n",
              "      fill: #174EA6;\n",
              "    }\n",
              "\n",
              "    [theme=dark] .colab-df-convert {\n",
              "      background-color: #3B4455;\n",
              "      fill: #D2E3FC;\n",
              "    }\n",
              "\n",
              "    [theme=dark] .colab-df-convert:hover {\n",
              "      background-color: #434B5C;\n",
              "      box-shadow: 0px 1px 3px 1px rgba(0, 0, 0, 0.15);\n",
              "      filter: drop-shadow(0px 1px 2px rgba(0, 0, 0, 0.3));\n",
              "      fill: #FFFFFF;\n",
              "    }\n",
              "  </style>\n",
              "\n",
              "      <script>\n",
              "        const buttonEl =\n",
              "          document.querySelector('#df-ea29adaa-f595-4ff8-ba04-f64a87c5189e button.colab-df-convert');\n",
              "        buttonEl.style.display =\n",
              "          google.colab.kernel.accessAllowed ? 'block' : 'none';\n",
              "\n",
              "        async function convertToInteractive(key) {\n",
              "          const element = document.querySelector('#df-ea29adaa-f595-4ff8-ba04-f64a87c5189e');\n",
              "          const dataTable =\n",
              "            await google.colab.kernel.invokeFunction('convertToInteractive',\n",
              "                                                     [key], {});\n",
              "          if (!dataTable) return;\n",
              "\n",
              "          const docLinkHtml = 'Like what you see? Visit the ' +\n",
              "            '<a target=\"_blank\" href=https://colab.research.google.com/notebooks/data_table.ipynb>data table notebook</a>'\n",
              "            + ' to learn more about interactive tables.';\n",
              "          element.innerHTML = '';\n",
              "          dataTable['output_type'] = 'display_data';\n",
              "          await google.colab.output.renderOutput(dataTable, element);\n",
              "          const docLink = document.createElement('div');\n",
              "          docLink.innerHTML = docLinkHtml;\n",
              "          element.appendChild(docLink);\n",
              "        }\n",
              "      </script>\n",
              "    </div>\n",
              "  </div>\n",
              "  "
            ]
          },
          "metadata": {},
          "execution_count": 12
        }
      ]
    },
    {
      "cell_type": "code",
      "source": [
        "#Cria Análise do Dataset completo e deixa um arquivo .html na pasta para visualização\n",
        "#profile = ProfileReport(rec_estatistica,title='Análise Exploratória')\n",
        "#profile.to_file(\"rec_estatistica.html\")"
      ],
      "metadata": {
        "id": "t1WpYMl7zCYZ"
      },
      "execution_count": 13,
      "outputs": []
    },
    {
      "cell_type": "code",
      "source": [
        "#report_sv = sv.analyze(rec_estatistica)\n",
        "#report_sv.show_html(\"sw.html\")"
      ],
      "metadata": {
        "id": "C-GgminUA3DQ"
      },
      "execution_count": 14,
      "outputs": []
    },
    {
      "cell_type": "code",
      "source": [
        "#procurando correlações, agrupando solicitações atendidas por regiao\n",
        "print(\"QUANTIDADE DE RECLAMAÇÕES ATENDIDAS POR ESTADO: \\n\")\n",
        "rec_estatistica.groupby(['UF','Regiao'])['AnoCalendario'].count()"
      ],
      "metadata": {
        "colab": {
          "base_uri": "https://localhost:8080/"
        },
        "id": "5rffo17Gs6O7",
        "outputId": "90afc1ef-ee36-41b5-f5a9-79c6c9229543"
      },
      "execution_count": 15,
      "outputs": [
        {
          "output_type": "stream",
          "name": "stdout",
          "text": [
            "QUANTIDADE DE RECLAMAÇÕES ATENDIDAS POR ESTADO: \n",
            "\n"
          ]
        },
        {
          "output_type": "execute_result",
          "data": {
            "text/plain": [
              "UF  Regiao      \n",
              "BA  Nordeste           25\n",
              "CE  Nordeste         1971\n",
              "ES  Sudeste          2768\n",
              "GO  Centro-oeste    16440\n",
              "MA  Nordeste          216\n",
              "MG  Sudeste          8098\n",
              "MS  Centro-oeste     6926\n",
              "MT  Centro-oeste     7485\n",
              "PA  Norte             977\n",
              "PB  Nordeste         1480\n",
              "PE  Nordeste          208\n",
              "PI  Nordeste         2014\n",
              "PR  Sul               875\n",
              "RJ  Sudeste          3612\n",
              "RN  Nordeste         7786\n",
              "RO  Norte            6195\n",
              "RS  Sul               138\n",
              "SC  Sul              4860\n",
              "SP  Sudeste         41003\n",
              "TO  Norte             389\n",
              "Name: AnoCalendario, dtype: int64"
            ]
          },
          "metadata": {},
          "execution_count": 15
        }
      ]
    },
    {
      "cell_type": "code",
      "source": [
        "#empresa com mais reclamações: telefonia/vivo, problema mais recorrente: produto com vício, ano com mais reclamações: 2017\n",
        "print(\"Tema com mais reclamações: \",rec_estatistica['DescricaoAssunto'].mode(),\"\\n\")\n",
        "print(\"Empresa com mais reclamações: \",rec_estatistica['strNomeFantasia'].mode(),\"\\n\")\n",
        "print(\"Problema mais recorrente: \",rec_estatistica['DescricaoProblema'].mode(),\"\\n\")\n",
        "print(\"Ano com mais reclamações: \",rec_estatistica['AnoCalendario'].mode(),\"\\n\")"
      ],
      "metadata": {
        "colab": {
          "base_uri": "https://localhost:8080/"
        },
        "id": "cro4C6wJ8taA",
        "outputId": "55ad14df-18e2-489c-c7b9-c708ad896cda"
      },
      "execution_count": 16,
      "outputs": [
        {
          "output_type": "stream",
          "name": "stdout",
          "text": [
            "Tema com mais reclamações:  0    Telefone ( Convencional, Celular, Interfone, E...\n",
            "Name: DescricaoAssunto, dtype: object \n",
            "\n",
            "Empresa com mais reclamações:  0    VIVO/TELEFÔNICA\n",
            "Name: strNomeFantasia, dtype: object \n",
            "\n",
            "Problema mais recorrente:  0    Produto com vício\n",
            "Name: DescricaoProblema, dtype: object \n",
            "\n",
            "Ano com mais reclamações:  0    2017\n",
            "Name: AnoCalendario, dtype: int64 \n",
            "\n"
          ]
        }
      ]
    },
    {
      "cell_type": "code",
      "source": [
        "rec_estatistica['Atendida'] = rec_estatistica['Atendida'].map({'S' : 1, 'N': 0}) #gráfico de quantidade de pessoas atendidas e não atendidas, mapeando sim 1 0 não\n",
        "rec_estatistica.hist(column='Atendida',color='green')"
      ],
      "metadata": {
        "colab": {
          "base_uri": "https://localhost:8080/",
          "height": 469
        },
        "id": "R0wxnHq-FHQS",
        "outputId": "3d07fee5-7a5d-4976-f4eb-3374be73f7b8"
      },
      "execution_count": 17,
      "outputs": [
        {
          "output_type": "execute_result",
          "data": {
            "text/plain": [
              "array([[<Axes: title={'center': 'Atendida'}>]], dtype=object)"
            ]
          },
          "metadata": {},
          "execution_count": 17
        },
        {
          "output_type": "display_data",
          "data": {
            "text/plain": [
              "<Figure size 640x480 with 1 Axes>"
            ],
            "image/png": "[encoded data removed]"
          },
          "metadata": {}
        }
      ]
    },
    {
      "cell_type": "markdown",
      "source": [
        "**CATEGORIZANDO ATRIBUTOS NOMINAIS**"
      ],
      "metadata": {
        "id": "M1GgbtLce3B0"
      }
    },
    {
      "cell_type": "code",
      "source": [
        "#excluir colunas com valores nominais\n",
        "remove_colunas_2 = [\"UF\",\"strNomeFantasia\",\"DescricaoAssunto\",\"DescricaoProblema\",\"Regiao\"]\n",
        "r_variavel=rec_estatistica\n",
        "r_variavel.drop(remove_colunas_2,axis='columns',inplace=True) #remove colunas com atributos nominais"
      ],
      "metadata": {
        "id": "lO3jSLqRz7Nf"
      },
      "execution_count": 18,
      "outputs": []
    },
    {
      "cell_type": "code",
      "source": [
        "r_variavel['Atendida'].replace(to_replace='S',value=1,inplace=True) # SIM 1\n",
        "r_variavel['Atendida'].replace(to_replace='N',value=0,inplace=True) # NÃO 0\n",
        "\n",
        "r_variavel['SexoConsumidor'].replace(to_replace='F',value=1,inplace=True) # FEMININO 1 \n",
        "r_variavel['SexoConsumidor'].replace(to_replace='M',value=0,inplace=True) # MASCULINO 0 \n",
        "\n",
        "r_variavel['FaixaEtariaConsumidor'].replace(to_replace='até 20 anos',value=0,inplace=True) #substitui faixas etárias por classificação numérica\n",
        "r_variavel['FaixaEtariaConsumidor'].replace(to_replace='entre 21 a 30 anos',value=1,inplace=True)\n",
        "r_variavel['FaixaEtariaConsumidor'].replace(to_replace='entre 31 a 40 anos',value=2,inplace=True)\n",
        "r_variavel['FaixaEtariaConsumidor'].replace(to_replace='entre 41 a 50 anos',value=3,inplace=True)\n",
        "r_variavel['FaixaEtariaConsumidor'].replace(to_replace='entre 51 a 60 anos',value=4,inplace=True)\n",
        "r_variavel['FaixaEtariaConsumidor'].replace(to_replace='entre 61 a 70 anos',value=5,inplace=True)\n",
        "r_variavel['FaixaEtariaConsumidor'].replace(to_replace='mais de 70 anos',value=6,inplace=True)\n",
        "\n",
        "'''Classificação Faixa Etária \n",
        "    0 : até 20 anos\n",
        "    1 : entre 21 a 30 anos  \n",
        "    2 : entre 31 a 40 anos\n",
        "    3 : entre 41 a 50 anos\n",
        "    4 : entre 51 a 60 anos\n",
        "    5 : entre 61 a 70 anos\n",
        "    6 : mais de 70 anos\n",
        "'''\n",
        "\n",
        "r_variavel['Dias'] = (r_variavel['DataArquivamento'] - r_variavel['DataAbertura']).dt.days #calcula dias e cria uma nova coluna\n",
        "\n",
        "\n",
        "r_variavel.head()\n"
      ],
      "metadata": {
        "id": "__gnrkhAcm8h",
        "colab": {
          "base_uri": "https://localhost:8080/",
          "height": 206
        },
        "outputId": "0e69c8a5-983a-4e09-c15e-62a106289529"
      },
      "execution_count": 19,
      "outputs": [
        {
          "output_type": "execute_result",
          "data": {
            "text/plain": [
              "   AnoCalendario DataArquivamento DataAbertura  CodigoRegiao  Atendida  \\\n",
              "0           2017       2017-03-14   2015-04-13             5       1.0   \n",
              "1           2017       2017-03-14   2015-04-13             5       1.0   \n",
              "2           2017       2017-03-03   2015-04-13             5       1.0   \n",
              "3           2017       2017-03-03   2015-04-13             5       1.0   \n",
              "4           2017       2017-12-12   2015-04-14             1       0.0   \n",
              "\n",
              "  CodigoAssunto SexoConsumidor FaixaEtariaConsumidor   Dias  \n",
              "0           122              1                     4  701.0  \n",
              "1           122              1                     4  701.0  \n",
              "2            92              1         Nao Informada  690.0  \n",
              "3            92              1         Nao Informada  690.0  \n",
              "4            53              0                     4  973.0  "
            ],
            "text/html": [
              "\n",
              "  <div id=\"df-f0a1cdd4-8665-4b9e-bd49-ef45477d6937\">\n",
              "    <div class=\"colab-df-container\">\n",
              "      <div>\n",
              "<style scoped>\n",
              "    .dataframe tbody tr th:only-of-type {\n",
              "        vertical-align: middle;\n",
              "    }\n",
              "\n",
              "    .dataframe tbody tr th {\n",
              "        vertical-align: top;\n",
              "    }\n",
              "\n",
              "    .dataframe thead th {\n",
              "        text-align: right;\n",
              "    }\n",
              "</style>\n",
              "<table border=\"1\" class=\"dataframe\">\n",
              "  <thead>\n",
              "    <tr style=\"text-align: right;\">\n",
              "      <th></th>\n",
              "      <th>AnoCalendario</th>\n",
              "      <th>DataArquivamento</th>\n",
              "      <th>DataAbertura</th>\n",
              "      <th>CodigoRegiao</th>\n",
              "      <th>Atendida</th>\n",
              "      <th>CodigoAssunto</th>\n",
              "      <th>SexoConsumidor</th>\n",
              "      <th>FaixaEtariaConsumidor</th>\n",
              "      <th>Dias</th>\n",
              "    </tr>\n",
              "  </thead>\n",
              "  <tbody>\n",
              "    <tr>\n",
              "      <th>0</th>\n",
              "      <td>2017</td>\n",
              "      <td>2017-03-14</td>\n",
              "      <td>2015-04-13</td>\n",
              "      <td>5</td>\n",
              "      <td>1.0</td>\n",
              "      <td>122</td>\n",
              "      <td>1</td>\n",
              "      <td>4</td>\n",
              "      <td>701.0</td>\n",
              "    </tr>\n",
              "    <tr>\n",
              "      <th>1</th>\n",
              "      <td>2017</td>\n",
              "      <td>2017-03-14</td>\n",
              "      <td>2015-04-13</td>\n",
              "      <td>5</td>\n",
              "      <td>1.0</td>\n",
              "      <td>122</td>\n",
              "      <td>1</td>\n",
              "      <td>4</td>\n",
              "      <td>701.0</td>\n",
              "    </tr>\n",
              "    <tr>\n",
              "      <th>2</th>\n",
              "      <td>2017</td>\n",
              "      <td>2017-03-03</td>\n",
              "      <td>2015-04-13</td>\n",
              "      <td>5</td>\n",
              "      <td>1.0</td>\n",
              "      <td>92</td>\n",
              "      <td>1</td>\n",
              "      <td>Nao Informada</td>\n",
              "      <td>690.0</td>\n",
              "    </tr>\n",
              "    <tr>\n",
              "      <th>3</th>\n",
              "      <td>2017</td>\n",
              "      <td>2017-03-03</td>\n",
              "      <td>2015-04-13</td>\n",
              "      <td>5</td>\n",
              "      <td>1.0</td>\n",
              "      <td>92</td>\n",
              "      <td>1</td>\n",
              "      <td>Nao Informada</td>\n",
              "      <td>690.0</td>\n",
              "    </tr>\n",
              "    <tr>\n",
              "      <th>4</th>\n",
              "      <td>2017</td>\n",
              "      <td>2017-12-12</td>\n",
              "      <td>2015-04-14</td>\n",
              "      <td>1</td>\n",
              "      <td>0.0</td>\n",
              "      <td>53</td>\n",
              "      <td>0</td>\n",
              "      <td>4</td>\n",
              "      <td>973.0</td>\n",
              "    </tr>\n",
              "  </tbody>\n",
              "</table>\n",
              "</div>\n",
              "      <button class=\"colab-df-convert\" onclick=\"convertToInteractive('df-f0a1cdd4-8665-4b9e-bd49-ef45477d6937')\"\n",
              "              title=\"Convert this dataframe to an interactive table.\"\n",
              "              style=\"display:none;\">\n",
              "        \n",
              "  <svg xmlns=\"http://www.w3.org/2000/svg\" height=\"24px\"viewBox=\"0 0 24 24\"\n",
              "       width=\"24px\">\n",
              "    <path d=\"M0 0h24v24H0V0z\" fill=\"none\"/>\n",
              "    <path d=\"M18.56 5.44l.94 2.06.94-2.06 2.06-.94-2.06-.94-.94-2.06-.94 2.06-2.06.94zm-11 1L8.5 8.5l.94-2.06 2.06-.94-2.06-.94L8.5 2.5l-.94 2.06-2.06.94zm10 10l.94 2.06.94-2.06 2.06-.94-2.06-.94-.94-2.06-.94 2.06-2.06.94z\"/><path d=\"M17.41 7.96l-1.37-1.37c-.4-.4-.92-.59-1.43-.59-.52 0-1.04.2-1.43.59L10.3 9.45l-7.72 7.72c-.78.78-.78 2.05 0 2.83L4 21.41c.39.39.9.59 1.41.59.51 0 1.02-.2 1.41-.59l7.78-7.78 2.81-2.81c.8-.78.8-2.07 0-2.86zM5.41 20L4 18.59l7.72-7.72 1.47 1.35L5.41 20z\"/>\n",
              "  </svg>\n",
              "      </button>\n",
              "      \n",
              "  <style>\n",
              "    .colab-df-container {\n",
              "      display:flex;\n",
              "      flex-wrap:wrap;\n",
              "      gap: 12px;\n",
              "    }\n",
              "\n",
              "    .colab-df-convert {\n",
              "      background-color: #E8F0FE;\n",
              "      border: none;\n",
              "      border-radius: 50%;\n",
              "      cursor: pointer;\n",
              "      display: none;\n",
              "      fill: #1967D2;\n",
              "      height: 32px;\n",
              "      padding: 0 0 0 0;\n",
              "      width: 32px;\n",
              "    }\n",
              "\n",
              "    .colab-df-convert:hover {\n",
              "      background-color: #E2EBFA;\n",
              "      box-shadow: 0px 1px 2px rgba(60, 64, 67, 0.3), 0px 1px 3px 1px rgba(60, 64, 67, 0.15);\n",
              "      fill: #174EA6;\n",
              "    }\n",
              "\n",
              "    [theme=dark] .colab-df-convert {\n",
              "      background-color: #3B4455;\n",
              "      fill: #D2E3FC;\n",
              "    }\n",
              "\n",
              "    [theme=dark] .colab-df-convert:hover {\n",
              "      background-color: #434B5C;\n",
              "      box-shadow: 0px 1px 3px 1px rgba(0, 0, 0, 0.15);\n",
              "      filter: drop-shadow(0px 1px 2px rgba(0, 0, 0, 0.3));\n",
              "      fill: #FFFFFF;\n",
              "    }\n",
              "  </style>\n",
              "\n",
              "      <script>\n",
              "        const buttonEl =\n",
              "          document.querySelector('#df-f0a1cdd4-8665-4b9e-bd49-ef45477d6937 button.colab-df-convert');\n",
              "        buttonEl.style.display =\n",
              "          google.colab.kernel.accessAllowed ? 'block' : 'none';\n",
              "\n",
              "        async function convertToInteractive(key) {\n",
              "          const element = document.querySelector('#df-f0a1cdd4-8665-4b9e-bd49-ef45477d6937');\n",
              "          const dataTable =\n",
              "            await google.colab.kernel.invokeFunction('convertToInteractive',\n",
              "                                                     [key], {});\n",
              "          if (!dataTable) return;\n",
              "\n",
              "          const docLinkHtml = 'Like what you see? Visit the ' +\n",
              "            '<a target=\"_blank\" href=https://colab.research.google.com/notebooks/data_table.ipynb>data table notebook</a>'\n",
              "            + ' to learn more about interactive tables.';\n",
              "          element.innerHTML = '';\n",
              "          dataTable['output_type'] = 'display_data';\n",
              "          await google.colab.output.renderOutput(dataTable, element);\n",
              "          const docLink = document.createElement('div');\n",
              "          docLink.innerHTML = docLinkHtml;\n",
              "          element.appendChild(docLink);\n",
              "        }\n",
              "      </script>\n",
              "    </div>\n",
              "  </div>\n",
              "  "
            ]
          },
          "metadata": {},
          "execution_count": 19
        }
      ]
    },
    {
      "cell_type": "markdown",
      "source": [
        "TRATANDO DADOS FALTANTES"
      ],
      "metadata": {
        "id": "FAASfIaRUNy0"
      }
    },
    {
      "cell_type": "code",
      "source": [
        "r_variavel.isna().sum() # conta a quantidade de valores\n",
        "r_variavel.shape"
      ],
      "metadata": {
        "colab": {
          "base_uri": "https://localhost:8080/"
        },
        "id": "GJHnFNfT4_nt",
        "outputId": "99217446-1e43-4c43-8147-3548c831fdc7"
      },
      "execution_count": 20,
      "outputs": [
        {
          "output_type": "execute_result",
          "data": {
            "text/plain": [
              "(113466, 9)"
            ]
          },
          "metadata": {},
          "execution_count": 20
        }
      ]
    },
    {
      "cell_type": "code",
      "source": [
        "r_variavel.replace(\"NULL\",np.nan,inplace=True)\n",
        "r_variavel.replace(\"Nao Informada\",np.nan,inplace=True)\n",
        "r_variavel.replace([\"Desistência de compra (cancelamento de compra)\",\"Produto com vício\",\n",
        "                    \"Contrato/pedido/orçamento (rescisão, descumprimento, erro, etc.)\",\"Produto entregue incompleto\",\n",
        "                    \"SAC - Cancelamento de serviço (retenção, demora, não envio do comprovante)\",\"Cobrança indevida/abusiva\"],np.nan,inplace=True)\n",
        "r_variavel.dropna(inplace=True)\n",
        "\n",
        "#substitui valores nulos e errados no Dataset por NaN e exclui os registros\n",
        "\n",
        "r_variavel['Dias'] = r_variavel['Dias'].astype(int) #substitui float por int na coluna de qtd de dias\n",
        "\n",
        "r_variavel.drop([\"DataArquivamento\",\"DataAbertura\"],axis='columns',inplace=True) #remove datas de colunas\n",
        "\n",
        "print(\"formato atual dataset, sem valores nulos\")\n",
        "print(r_variavel.shape)\n",
        "r_variavel.info()"
      ],
      "metadata": {
        "colab": {
          "base_uri": "https://localhost:8080/"
        },
        "id": "R22cGlI-14Ni",
        "outputId": "2688cc95-2516-4d56-f707-745e179ef4c8"
      },
      "execution_count": 21,
      "outputs": [
        {
          "output_type": "stream",
          "name": "stdout",
          "text": [
            "formato atual dataset, sem valores nulos\n",
            "(103748, 7)\n",
            "<class 'pandas.core.frame.DataFrame'>\n",
            "Int64Index: 103748 entries, 0 to 113465\n",
            "Data columns (total 7 columns):\n",
            " #   Column                 Non-Null Count   Dtype  \n",
            "---  ------                 --------------   -----  \n",
            " 0   AnoCalendario          103748 non-null  int64  \n",
            " 1   CodigoRegiao           103748 non-null  int64  \n",
            " 2   Atendida               103748 non-null  float64\n",
            " 3   CodigoAssunto          103748 non-null  object \n",
            " 4   SexoConsumidor         103748 non-null  object \n",
            " 5   FaixaEtariaConsumidor  103748 non-null  object \n",
            " 6   Dias                   103748 non-null  int64  \n",
            "dtypes: float64(1), int64(3), object(3)\n",
            "memory usage: 6.3+ MB\n"
          ]
        }
      ]
    },
    {
      "cell_type": "code",
      "source": [
        "r_variavel.head() # criar faixas de valores por dias a cada 180(semestre), classificar códigos do assunto"
      ],
      "metadata": {
        "colab": {
          "base_uri": "https://localhost:8080/",
          "height": 206
        },
        "id": "6n7BM18mDuPA",
        "outputId": "936763e8-0f1f-418b-f83a-c5afa1187f9a"
      },
      "execution_count": 22,
      "outputs": [
        {
          "output_type": "execute_result",
          "data": {
            "text/plain": [
              "   AnoCalendario  CodigoRegiao  Atendida CodigoAssunto SexoConsumidor  \\\n",
              "0           2017             5       1.0           122              1   \n",
              "1           2017             5       1.0           122              1   \n",
              "4           2017             1       0.0            53              0   \n",
              "6           2017             5       1.0            94              1   \n",
              "7           2017             5       1.0            94              1   \n",
              "\n",
              "  FaixaEtariaConsumidor  Dias  \n",
              "0                     4   701  \n",
              "1                     4   701  \n",
              "4                     4   973  \n",
              "6                     4   689  \n",
              "7                     4   689  "
            ],
            "text/html": [
              "\n",
              "  <div id=\"df-9e572a0d-49b4-4f9a-9f0b-2ce5db638960\">\n",
              "    <div class=\"colab-df-container\">\n",
              "      <div>\n",
              "<style scoped>\n",
              "    .dataframe tbody tr th:only-of-type {\n",
              "        vertical-align: middle;\n",
              "    }\n",
              "\n",
              "    .dataframe tbody tr th {\n",
              "        vertical-align: top;\n",
              "    }\n",
              "\n",
              "    .dataframe thead th {\n",
              "        text-align: right;\n",
              "    }\n",
              "</style>\n",
              "<table border=\"1\" class=\"dataframe\">\n",
              "  <thead>\n",
              "    <tr style=\"text-align: right;\">\n",
              "      <th></th>\n",
              "      <th>AnoCalendario</th>\n",
              "      <th>CodigoRegiao</th>\n",
              "      <th>Atendida</th>\n",
              "      <th>CodigoAssunto</th>\n",
              "      <th>SexoConsumidor</th>\n",
              "      <th>FaixaEtariaConsumidor</th>\n",
              "      <th>Dias</th>\n",
              "    </tr>\n",
              "  </thead>\n",
              "  <tbody>\n",
              "    <tr>\n",
              "      <th>0</th>\n",
              "      <td>2017</td>\n",
              "      <td>5</td>\n",
              "      <td>1.0</td>\n",
              "      <td>122</td>\n",
              "      <td>1</td>\n",
              "      <td>4</td>\n",
              "      <td>701</td>\n",
              "    </tr>\n",
              "    <tr>\n",
              "      <th>1</th>\n",
              "      <td>2017</td>\n",
              "      <td>5</td>\n",
              "      <td>1.0</td>\n",
              "      <td>122</td>\n",
              "      <td>1</td>\n",
              "      <td>4</td>\n",
              "      <td>701</td>\n",
              "    </tr>\n",
              "    <tr>\n",
              "      <th>4</th>\n",
              "      <td>2017</td>\n",
              "      <td>1</td>\n",
              "      <td>0.0</td>\n",
              "      <td>53</td>\n",
              "      <td>0</td>\n",
              "      <td>4</td>\n",
              "      <td>973</td>\n",
              "    </tr>\n",
              "    <tr>\n",
              "      <th>6</th>\n",
              "      <td>2017</td>\n",
              "      <td>5</td>\n",
              "      <td>1.0</td>\n",
              "      <td>94</td>\n",
              "      <td>1</td>\n",
              "      <td>4</td>\n",
              "      <td>689</td>\n",
              "    </tr>\n",
              "    <tr>\n",
              "      <th>7</th>\n",
              "      <td>2017</td>\n",
              "      <td>5</td>\n",
              "      <td>1.0</td>\n",
              "      <td>94</td>\n",
              "      <td>1</td>\n",
              "      <td>4</td>\n",
              "      <td>689</td>\n",
              "    </tr>\n",
              "  </tbody>\n",
              "</table>\n",
              "</div>\n",
              "      <button class=\"colab-df-convert\" onclick=\"convertToInteractive('df-9e572a0d-49b4-4f9a-9f0b-2ce5db638960')\"\n",
              "              title=\"Convert this dataframe to an interactive table.\"\n",
              "              style=\"display:none;\">\n",
              "        \n",
              "  <svg xmlns=\"http://www.w3.org/2000/svg\" height=\"24px\"viewBox=\"0 0 24 24\"\n",
              "       width=\"24px\">\n",
              "    <path d=\"M0 0h24v24H0V0z\" fill=\"none\"/>\n",
              "    <path d=\"M18.56 5.44l.94 2.06.94-2.06 2.06-.94-2.06-.94-.94-2.06-.94 2.06-2.06.94zm-11 1L8.5 8.5l.94-2.06 2.06-.94-2.06-.94L8.5 2.5l-.94 2.06-2.06.94zm10 10l.94 2.06.94-2.06 2.06-.94-2.06-.94-.94-2.06-.94 2.06-2.06.94z\"/><path d=\"M17.41 7.96l-1.37-1.37c-.4-.4-.92-.59-1.43-.59-.52 0-1.04.2-1.43.59L10.3 9.45l-7.72 7.72c-.78.78-.78 2.05 0 2.83L4 21.41c.39.39.9.59 1.41.59.51 0 1.02-.2 1.41-.59l7.78-7.78 2.81-2.81c.8-.78.8-2.07 0-2.86zM5.41 20L4 18.59l7.72-7.72 1.47 1.35L5.41 20z\"/>\n",
              "  </svg>\n",
              "      </button>\n",
              "      \n",
              "  <style>\n",
              "    .colab-df-container {\n",
              "      display:flex;\n",
              "      flex-wrap:wrap;\n",
              "      gap: 12px;\n",
              "    }\n",
              "\n",
              "    .colab-df-convert {\n",
              "      background-color: #E8F0FE;\n",
              "      border: none;\n",
              "      border-radius: 50%;\n",
              "      cursor: pointer;\n",
              "      display: none;\n",
              "      fill: #1967D2;\n",
              "      height: 32px;\n",
              "      padding: 0 0 0 0;\n",
              "      width: 32px;\n",
              "    }\n",
              "\n",
              "    .colab-df-convert:hover {\n",
              "      background-color: #E2EBFA;\n",
              "      box-shadow: 0px 1px 2px rgba(60, 64, 67, 0.3), 0px 1px 3px 1px rgba(60, 64, 67, 0.15);\n",
              "      fill: #174EA6;\n",
              "    }\n",
              "\n",
              "    [theme=dark] .colab-df-convert {\n",
              "      background-color: #3B4455;\n",
              "      fill: #D2E3FC;\n",
              "    }\n",
              "\n",
              "    [theme=dark] .colab-df-convert:hover {\n",
              "      background-color: #434B5C;\n",
              "      box-shadow: 0px 1px 3px 1px rgba(0, 0, 0, 0.15);\n",
              "      filter: drop-shadow(0px 1px 2px rgba(0, 0, 0, 0.3));\n",
              "      fill: #FFFFFF;\n",
              "    }\n",
              "  </style>\n",
              "\n",
              "      <script>\n",
              "        const buttonEl =\n",
              "          document.querySelector('#df-9e572a0d-49b4-4f9a-9f0b-2ce5db638960 button.colab-df-convert');\n",
              "        buttonEl.style.display =\n",
              "          google.colab.kernel.accessAllowed ? 'block' : 'none';\n",
              "\n",
              "        async function convertToInteractive(key) {\n",
              "          const element = document.querySelector('#df-9e572a0d-49b4-4f9a-9f0b-2ce5db638960');\n",
              "          const dataTable =\n",
              "            await google.colab.kernel.invokeFunction('convertToInteractive',\n",
              "                                                     [key], {});\n",
              "          if (!dataTable) return;\n",
              "\n",
              "          const docLinkHtml = 'Like what you see? Visit the ' +\n",
              "            '<a target=\"_blank\" href=https://colab.research.google.com/notebooks/data_table.ipynb>data table notebook</a>'\n",
              "            + ' to learn more about interactive tables.';\n",
              "          element.innerHTML = '';\n",
              "          dataTable['output_type'] = 'display_data';\n",
              "          await google.colab.output.renderOutput(dataTable, element);\n",
              "          const docLink = document.createElement('div');\n",
              "          docLink.innerHTML = docLinkHtml;\n",
              "          element.appendChild(docLink);\n",
              "        }\n",
              "      </script>\n",
              "    </div>\n",
              "  </div>\n",
              "  "
            ]
          },
          "metadata": {},
          "execution_count": 22
        }
      ]
    },
    {
      "cell_type": "markdown",
      "source": [
        "CRIANDO CLASSES DE ASSUNTO E DE TEMPO"
      ],
      "metadata": {
        "id": "PykGp39jT3ms"
      }
    },
    {
      "cell_type": "code",
      "source": [
        "#CATEGORIZANDO CODIGO ASSUNTO\n",
        "alimentos = []\n",
        "x = range(1,46)\n",
        "for n in x:\n",
        "  alimentos.append(n)\n",
        "\n",
        "alimentos.append(50)\n",
        "alimentos.append(283)\n",
        "#ALIMENTOS, BEBIDAS E DISTRIBUIDORAS = 1\n",
        "\n",
        "\n",
        "financas = []\n",
        "x = range(53,76)\n",
        "for n in x:\n",
        "  financas.append(n)\n",
        "\n",
        "financas_faltantes=[78,79,85,86,135,144,147,229,231,280,282]\n",
        "for n in financas_faltantes:\n",
        "  financas.append(n)\n",
        "#FINANCAS,SEGURO E CRÉDITO = 2\n",
        "\n",
        "mobiliaria = []\n",
        "x = range(80,85)\n",
        "for n in x:\n",
        "  mobiliaria.append(n)\n",
        "mobiliaria.append(87)\n",
        "#MOBILARIA E CONSTRUTORA  = 3\n",
        "\n",
        "domesticos = [] \n",
        "x = range(92,99)\n",
        "for n in x:\n",
        "  domesticos.append(n)\n",
        "x = range(100,105)\n",
        "for n in x:\n",
        "  domesticos.append(n)\n",
        "x = range(110,113)\n",
        "for n in x:\n",
        "  domesticos.append(n)\n",
        "x = range(120,129)\n",
        "for n in x:\n",
        "  domesticos.append(n)\n",
        "x = range(139,144)\n",
        "for n in x:\n",
        "  domesticos.append(n)\n",
        "domesticos.append(146)\n",
        "\n",
        "# ARTIGOS DE CASA = 4\n",
        "\n",
        "auto = [99,89,129,130,131,133,145]\n",
        "\n",
        "# AUTOMOVEIS E AUTOPEÇAS = 5\n",
        "\n",
        "art_lazer = [105,106,107,108,109]\n",
        "x = range(245,249)\n",
        "for n in x:\n",
        "  art_lazer.append(n)\n",
        "\n",
        "# ARTIGOS PARA LAZER = 6\n",
        "\n",
        "saude = [230, 284, 285, 286]\n",
        "x = range(199,225)\n",
        "for n in x:\n",
        "  saude.append(n)\n",
        "\n",
        "# SAUDE = 7\n",
        "\n",
        "art_pessoais = [132, 134, 287]\n",
        "\n",
        "# ARTIGOS PESSOAIS = 8 \n",
        "\n",
        "telecom = [136, 137, 186, 187, 188, 226, 227]\n",
        "\n",
        "# TELECOMUNICAÇÕES E TELEMARKETING = 9\n",
        "\n",
        "servicos = [281, 288]\n",
        "x = range(156,186)\n",
        "for n in x:\n",
        "  servicos.append(n)\n",
        "x = range(233,245)\n",
        "for n in x:\n",
        "  servicos.append(n)\n",
        "x = range(249,280)\n",
        "for n in x:\n",
        "  servicos.append(n)\n",
        "\n",
        "# SERVIÇOS = 10\n",
        "\n",
        "\n",
        "outros = [76,77,84,88,90,91,113,114,138]\n",
        "\n",
        "# OUTROS = 11"
      ],
      "metadata": {
        "id": "tELW7dshD1qG"
      },
      "execution_count": 23,
      "outputs": []
    },
    {
      "cell_type": "code",
      "source": [
        "r_variavel['CodigoAssunto'].replace(to_replace=alimentos,value=1,inplace=True) #substitui códigos do assunto por classificação numérica\n",
        "r_variavel['CodigoAssunto'].replace(to_replace=financas,value=2,inplace=True) \n",
        "r_variavel['CodigoAssunto'].replace(to_replace=mobiliaria,value=3,inplace=True) \n",
        "r_variavel['CodigoAssunto'].replace(to_replace=domesticos,value=4,inplace=True) \n",
        "r_variavel['CodigoAssunto'].replace(to_replace=auto,value=5,inplace=True) \n",
        "r_variavel['CodigoAssunto'].replace(to_replace=art_lazer,value=6,inplace=True) \n",
        "r_variavel['CodigoAssunto'].replace(to_replace=saude,value=7,inplace=True) \n",
        "r_variavel['CodigoAssunto'].replace(to_replace=art_pessoais,value=8,inplace=True) \n",
        "r_variavel['CodigoAssunto'].replace(to_replace=telecom,value=9,inplace=True) \n",
        "r_variavel['CodigoAssunto'].replace(to_replace=servicos,value=10,inplace=True) \n",
        "r_variavel['CodigoAssunto'].replace(to_replace=outros,value=11,inplace=True) "
      ],
      "metadata": {
        "id": "D514qB9ahgoY"
      },
      "execution_count": 24,
      "outputs": []
    },
    {
      "cell_type": "code",
      "source": [
        "# funcional mas gasta muita RAM\n",
        "#semestres = list(map(lambda x : math.ceil(x / 180) if ((x / 180) - (x // 180) > 0.5) else math.floor(x / 180), dias))\n",
        "# essa função pega a divisão do dia por 180 e subtrae o quociente da mesma operação\n",
        "#resta apenas a parte decimal.caso o restante seja maior que 0.5 o número é arredondado para cima                                                                                                                        \n",
        "#caso contrário, é arredondado para baixo\n",
        "\n",
        "#dias = np.array(r_variavel['Dias'])\n",
        " #transforma coluna do dataframe em numpy array para que possa ser percorrido\n",
        "\n",
        "#semestres = [math.ceil(x / 180) if (x % 180) > 90 else math.floor(x / 180) for x in dias] \n",
        "#usa list compreehension para percorrer valores de dias\n",
        "#ao invés de varificar o resultado da divisão para arredondar, agor usamos operador % para verificar o resto, se maior que 90 arredonda pra cima, caso não\n",
        "#arredonda pra baixo\n",
        "\n",
        "#r_variavel['Dias'].replace(to_replace=dias,value=semestres,inplace=True) isso é o que gasta ram"
      ],
      "metadata": {
        "id": "XYrAiJReu_dq"
      },
      "execution_count": 25,
      "outputs": []
    },
    {
      "cell_type": "code",
      "source": [
        "dias = np.array(r_variavel['Dias']) \n",
        "\n",
        "\n",
        "def salva_pickle(lista,nome_arquivo):   #função que salva a variavel no drive recebendo como parametro a variavel e o nome do arquivo\n",
        "  with open('/content/drive/MyDrive/pickle_file/'+ nome_arquivo +'.pkl','wb') as arquivo: \n",
        "    pickle.dump(lista,arquivo)            \n",
        "                                                    \n",
        "def le_pickle(lista,nome_arquivo):    #função que le a variavel do drive e a retorna\n",
        "  with open('/content/drive/MyDrive/pickle_file/'+ nome_arquivo +'.pkl','rb') as arquivo: \n",
        "    lista = pickle.load(arquivo)\n",
        "    return lista\n",
        "\n",
        "\n",
        "#salva_pickle(semestres,\"semestres\")# rodar apenas uma vez\n",
        "\n",
        "semestres = 0 #reinicia a variavel semestres para ser lida. Sendo que semestres = [math.ceil(x / 180) if (x % 180) > 90 else math.floor(x / 180) for x in dias]\n",
        "\n",
        "sem=le_pickle(semestres,\"semestres\")    \n",
        "\n",
        "r_variavel['Dias'].replace(to_replace=dias,value=sem,inplace=True)"
      ],
      "metadata": {
        "id": "P8e9N4O-9MY4"
      },
      "execution_count": 26,
      "outputs": []
    },
    {
      "cell_type": "code",
      "source": [
        "r_variavel.rename(columns={'Dias': 'Semestres'}, inplace = True) #semestres tem 25 classes distintas, de 0 a 24\n",
        "''' CÓDIGO REGIÃO\n",
        "1: Norte\n",
        "2: Nordeste\n",
        "3: Sudeste\n",
        "4: Sul\n",
        "5: Centro-Oeste\n",
        "'''\n",
        "r_variavel.head()"
      ],
      "metadata": {
        "colab": {
          "base_uri": "https://localhost:8080/",
          "height": 206
        },
        "id": "n5rqwz7ErtYe",
        "outputId": "6dec3559-a180-44a5-dc8e-1b863fa5e570"
      },
      "execution_count": 27,
      "outputs": [
        {
          "output_type": "execute_result",
          "data": {
            "text/plain": [
              "   AnoCalendario  CodigoRegiao  Atendida CodigoAssunto SexoConsumidor  \\\n",
              "0           2017             5       1.0             4              1   \n",
              "1           2017             5       1.0             4              1   \n",
              "4           2017             1       0.0             2              0   \n",
              "6           2017             5       1.0             4              1   \n",
              "7           2017             5       1.0             4              1   \n",
              "\n",
              "  FaixaEtariaConsumidor  Semestres  \n",
              "0                     4          4  \n",
              "1                     4          4  \n",
              "4                     4          5  \n",
              "6                     4          4  \n",
              "7                     4          4  "
            ],
            "text/html": [
              "\n",
              "  <div id=\"df-b8c7752c-2ca2-47bc-9c78-f2a841168d16\">\n",
              "    <div class=\"colab-df-container\">\n",
              "      <div>\n",
              "<style scoped>\n",
              "    .dataframe tbody tr th:only-of-type {\n",
              "        vertical-align: middle;\n",
              "    }\n",
              "\n",
              "    .dataframe tbody tr th {\n",
              "        vertical-align: top;\n",
              "    }\n",
              "\n",
              "    .dataframe thead th {\n",
              "        text-align: right;\n",
              "    }\n",
              "</style>\n",
              "<table border=\"1\" class=\"dataframe\">\n",
              "  <thead>\n",
              "    <tr style=\"text-align: right;\">\n",
              "      <th></th>\n",
              "      <th>AnoCalendario</th>\n",
              "      <th>CodigoRegiao</th>\n",
              "      <th>Atendida</th>\n",
              "      <th>CodigoAssunto</th>\n",
              "      <th>SexoConsumidor</th>\n",
              "      <th>FaixaEtariaConsumidor</th>\n",
              "      <th>Semestres</th>\n",
              "    </tr>\n",
              "  </thead>\n",
              "  <tbody>\n",
              "    <tr>\n",
              "      <th>0</th>\n",
              "      <td>2017</td>\n",
              "      <td>5</td>\n",
              "      <td>1.0</td>\n",
              "      <td>4</td>\n",
              "      <td>1</td>\n",
              "      <td>4</td>\n",
              "      <td>4</td>\n",
              "    </tr>\n",
              "    <tr>\n",
              "      <th>1</th>\n",
              "      <td>2017</td>\n",
              "      <td>5</td>\n",
              "      <td>1.0</td>\n",
              "      <td>4</td>\n",
              "      <td>1</td>\n",
              "      <td>4</td>\n",
              "      <td>4</td>\n",
              "    </tr>\n",
              "    <tr>\n",
              "      <th>4</th>\n",
              "      <td>2017</td>\n",
              "      <td>1</td>\n",
              "      <td>0.0</td>\n",
              "      <td>2</td>\n",
              "      <td>0</td>\n",
              "      <td>4</td>\n",
              "      <td>5</td>\n",
              "    </tr>\n",
              "    <tr>\n",
              "      <th>6</th>\n",
              "      <td>2017</td>\n",
              "      <td>5</td>\n",
              "      <td>1.0</td>\n",
              "      <td>4</td>\n",
              "      <td>1</td>\n",
              "      <td>4</td>\n",
              "      <td>4</td>\n",
              "    </tr>\n",
              "    <tr>\n",
              "      <th>7</th>\n",
              "      <td>2017</td>\n",
              "      <td>5</td>\n",
              "      <td>1.0</td>\n",
              "      <td>4</td>\n",
              "      <td>1</td>\n",
              "      <td>4</td>\n",
              "      <td>4</td>\n",
              "    </tr>\n",
              "  </tbody>\n",
              "</table>\n",
              "</div>\n",
              "      <button class=\"colab-df-convert\" onclick=\"convertToInteractive('df-b8c7752c-2ca2-47bc-9c78-f2a841168d16')\"\n",
              "              title=\"Convert this dataframe to an interactive table.\"\n",
              "              style=\"display:none;\">\n",
              "        \n",
              "  <svg xmlns=\"http://www.w3.org/2000/svg\" height=\"24px\"viewBox=\"0 0 24 24\"\n",
              "       width=\"24px\">\n",
              "    <path d=\"M0 0h24v24H0V0z\" fill=\"none\"/>\n",
              "    <path d=\"M18.56 5.44l.94 2.06.94-2.06 2.06-.94-2.06-.94-.94-2.06-.94 2.06-2.06.94zm-11 1L8.5 8.5l.94-2.06 2.06-.94-2.06-.94L8.5 2.5l-.94 2.06-2.06.94zm10 10l.94 2.06.94-2.06 2.06-.94-2.06-.94-.94-2.06-.94 2.06-2.06.94z\"/><path d=\"M17.41 7.96l-1.37-1.37c-.4-.4-.92-.59-1.43-.59-.52 0-1.04.2-1.43.59L10.3 9.45l-7.72 7.72c-.78.78-.78 2.05 0 2.83L4 21.41c.39.39.9.59 1.41.59.51 0 1.02-.2 1.41-.59l7.78-7.78 2.81-2.81c.8-.78.8-2.07 0-2.86zM5.41 20L4 18.59l7.72-7.72 1.47 1.35L5.41 20z\"/>\n",
              "  </svg>\n",
              "      </button>\n",
              "      \n",
              "  <style>\n",
              "    .colab-df-container {\n",
              "      display:flex;\n",
              "      flex-wrap:wrap;\n",
              "      gap: 12px;\n",
              "    }\n",
              "\n",
              "    .colab-df-convert {\n",
              "      background-color: #E8F0FE;\n",
              "      border: none;\n",
              "      border-radius: 50%;\n",
              "      cursor: pointer;\n",
              "      display: none;\n",
              "      fill: #1967D2;\n",
              "      height: 32px;\n",
              "      padding: 0 0 0 0;\n",
              "      width: 32px;\n",
              "    }\n",
              "\n",
              "    .colab-df-convert:hover {\n",
              "      background-color: #E2EBFA;\n",
              "      box-shadow: 0px 1px 2px rgba(60, 64, 67, 0.3), 0px 1px 3px 1px rgba(60, 64, 67, 0.15);\n",
              "      fill: #174EA6;\n",
              "    }\n",
              "\n",
              "    [theme=dark] .colab-df-convert {\n",
              "      background-color: #3B4455;\n",
              "      fill: #D2E3FC;\n",
              "    }\n",
              "\n",
              "    [theme=dark] .colab-df-convert:hover {\n",
              "      background-color: #434B5C;\n",
              "      box-shadow: 0px 1px 3px 1px rgba(0, 0, 0, 0.15);\n",
              "      filter: drop-shadow(0px 1px 2px rgba(0, 0, 0, 0.3));\n",
              "      fill: #FFFFFF;\n",
              "    }\n",
              "  </style>\n",
              "\n",
              "      <script>\n",
              "        const buttonEl =\n",
              "          document.querySelector('#df-b8c7752c-2ca2-47bc-9c78-f2a841168d16 button.colab-df-convert');\n",
              "        buttonEl.style.display =\n",
              "          google.colab.kernel.accessAllowed ? 'block' : 'none';\n",
              "\n",
              "        async function convertToInteractive(key) {\n",
              "          const element = document.querySelector('#df-b8c7752c-2ca2-47bc-9c78-f2a841168d16');\n",
              "          const dataTable =\n",
              "            await google.colab.kernel.invokeFunction('convertToInteractive',\n",
              "                                                     [key], {});\n",
              "          if (!dataTable) return;\n",
              "\n",
              "          const docLinkHtml = 'Like what you see? Visit the ' +\n",
              "            '<a target=\"_blank\" href=https://colab.research.google.com/notebooks/data_table.ipynb>data table notebook</a>'\n",
              "            + ' to learn more about interactive tables.';\n",
              "          element.innerHTML = '';\n",
              "          dataTable['output_type'] = 'display_data';\n",
              "          await google.colab.output.renderOutput(dataTable, element);\n",
              "          const docLink = document.createElement('div');\n",
              "          docLink.innerHTML = docLinkHtml;\n",
              "          element.appendChild(docLink);\n",
              "        }\n",
              "      </script>\n",
              "    </div>\n",
              "  </div>\n",
              "  "
            ]
          },
          "metadata": {},
          "execution_count": 27
        }
      ]
    },
    {
      "cell_type": "markdown",
      "source": [
        "Correlações"
      ],
      "metadata": {
        "id": "lBxrRjT08lLM"
      }
    },
    {
      "cell_type": "code",
      "source": [
        "def histogram_intersection(a, b):\n",
        "    v = np.minimum(a, b).sum().round(decimals=1) #função para criar histogramas de correlação das colunas do dataset pela soma de valores mínimos\n",
        "    return v\n",
        "print(\"Histogramas de Correlação:\")\n",
        "r_variavel.corr(method=histogram_intersection)   "
      ],
      "metadata": {
        "colab": {
          "base_uri": "https://localhost:8080/",
          "height": 247
        },
        "id": "jgk2L91F0jsD",
        "outputId": "7abd5d0a-5ad7-431f-baa9-ee17b295c444"
      },
      "execution_count": 28,
      "outputs": [
        {
          "output_type": "stream",
          "name": "stdout",
          "text": [
            "Histogramas de Correlação:\n"
          ]
        },
        {
          "output_type": "stream",
          "name": "stderr",
          "text": [
            "<ipython-input-28-8e2e1a9ed53d>:5: FutureWarning: The default value of numeric_only in DataFrame.corr is deprecated. In a future version, it will default to False. Select only valid columns or specify the value of numeric_only to silence this warning.\n",
            "  r_variavel.corr(method=histogram_intersection)\n"
          ]
        },
        {
          "output_type": "execute_result",
          "data": {
            "text/plain": [
              "               AnoCalendario  CodigoRegiao  Atendida  Semestres\n",
              "AnoCalendario            1.0      343884.0   59807.0    94551.0\n",
              "CodigoRegiao        343884.0           1.0   59807.0    80807.0\n",
              "Atendida             59807.0       59807.0       1.0    30231.0\n",
              "Semestres            94551.0       80807.0   30231.0        1.0"
            ],
            "text/html": [
              "\n",
              "  <div id=\"df-c2b97c01-2257-4480-b873-98af1f2a54d8\">\n",
              "    <div class=\"colab-df-container\">\n",
              "      <div>\n",
              "<style scoped>\n",
              "    .dataframe tbody tr th:only-of-type {\n",
              "        vertical-align: middle;\n",
              "    }\n",
              "\n",
              "    .dataframe tbody tr th {\n",
              "        vertical-align: top;\n",
              "    }\n",
              "\n",
              "    .dataframe thead th {\n",
              "        text-align: right;\n",
              "    }\n",
              "</style>\n",
              "<table border=\"1\" class=\"dataframe\">\n",
              "  <thead>\n",
              "    <tr style=\"text-align: right;\">\n",
              "      <th></th>\n",
              "      <th>AnoCalendario</th>\n",
              "      <th>CodigoRegiao</th>\n",
              "      <th>Atendida</th>\n",
              "      <th>Semestres</th>\n",
              "    </tr>\n",
              "  </thead>\n",
              "  <tbody>\n",
              "    <tr>\n",
              "      <th>AnoCalendario</th>\n",
              "      <td>1.0</td>\n",
              "      <td>343884.0</td>\n",
              "      <td>59807.0</td>\n",
              "      <td>94551.0</td>\n",
              "    </tr>\n",
              "    <tr>\n",
              "      <th>CodigoRegiao</th>\n",
              "      <td>343884.0</td>\n",
              "      <td>1.0</td>\n",
              "      <td>59807.0</td>\n",
              "      <td>80807.0</td>\n",
              "    </tr>\n",
              "    <tr>\n",
              "      <th>Atendida</th>\n",
              "      <td>59807.0</td>\n",
              "      <td>59807.0</td>\n",
              "      <td>1.0</td>\n",
              "      <td>30231.0</td>\n",
              "    </tr>\n",
              "    <tr>\n",
              "      <th>Semestres</th>\n",
              "      <td>94551.0</td>\n",
              "      <td>80807.0</td>\n",
              "      <td>30231.0</td>\n",
              "      <td>1.0</td>\n",
              "    </tr>\n",
              "  </tbody>\n",
              "</table>\n",
              "</div>\n",
              "      <button class=\"colab-df-convert\" onclick=\"convertToInteractive('df-c2b97c01-2257-4480-b873-98af1f2a54d8')\"\n",
              "              title=\"Convert this dataframe to an interactive table.\"\n",
              "              style=\"display:none;\">\n",
              "        \n",
              "  <svg xmlns=\"http://www.w3.org/2000/svg\" height=\"24px\"viewBox=\"0 0 24 24\"\n",
              "       width=\"24px\">\n",
              "    <path d=\"M0 0h24v24H0V0z\" fill=\"none\"/>\n",
              "    <path d=\"M18.56 5.44l.94 2.06.94-2.06 2.06-.94-2.06-.94-.94-2.06-.94 2.06-2.06.94zm-11 1L8.5 8.5l.94-2.06 2.06-.94-2.06-.94L8.5 2.5l-.94 2.06-2.06.94zm10 10l.94 2.06.94-2.06 2.06-.94-2.06-.94-.94-2.06-.94 2.06-2.06.94z\"/><path d=\"M17.41 7.96l-1.37-1.37c-.4-.4-.92-.59-1.43-.59-.52 0-1.04.2-1.43.59L10.3 9.45l-7.72 7.72c-.78.78-.78 2.05 0 2.83L4 21.41c.39.39.9.59 1.41.59.51 0 1.02-.2 1.41-.59l7.78-7.78 2.81-2.81c.8-.78.8-2.07 0-2.86zM5.41 20L4 18.59l7.72-7.72 1.47 1.35L5.41 20z\"/>\n",
              "  </svg>\n",
              "      </button>\n",
              "      \n",
              "  <style>\n",
              "    .colab-df-container {\n",
              "      display:flex;\n",
              "      flex-wrap:wrap;\n",
              "      gap: 12px;\n",
              "    }\n",
              "\n",
              "    .colab-df-convert {\n",
              "      background-color: #E8F0FE;\n",
              "      border: none;\n",
              "      border-radius: 50%;\n",
              "      cursor: pointer;\n",
              "      display: none;\n",
              "      fill: #1967D2;\n",
              "      height: 32px;\n",
              "      padding: 0 0 0 0;\n",
              "      width: 32px;\n",
              "    }\n",
              "\n",
              "    .colab-df-convert:hover {\n",
              "      background-color: #E2EBFA;\n",
              "      box-shadow: 0px 1px 2px rgba(60, 64, 67, 0.3), 0px 1px 3px 1px rgba(60, 64, 67, 0.15);\n",
              "      fill: #174EA6;\n",
              "    }\n",
              "\n",
              "    [theme=dark] .colab-df-convert {\n",
              "      background-color: #3B4455;\n",
              "      fill: #D2E3FC;\n",
              "    }\n",
              "\n",
              "    [theme=dark] .colab-df-convert:hover {\n",
              "      background-color: #434B5C;\n",
              "      box-shadow: 0px 1px 3px 1px rgba(0, 0, 0, 0.15);\n",
              "      filter: drop-shadow(0px 1px 2px rgba(0, 0, 0, 0.3));\n",
              "      fill: #FFFFFF;\n",
              "    }\n",
              "  </style>\n",
              "\n",
              "      <script>\n",
              "        const buttonEl =\n",
              "          document.querySelector('#df-c2b97c01-2257-4480-b873-98af1f2a54d8 button.colab-df-convert');\n",
              "        buttonEl.style.display =\n",
              "          google.colab.kernel.accessAllowed ? 'block' : 'none';\n",
              "\n",
              "        async function convertToInteractive(key) {\n",
              "          const element = document.querySelector('#df-c2b97c01-2257-4480-b873-98af1f2a54d8');\n",
              "          const dataTable =\n",
              "            await google.colab.kernel.invokeFunction('convertToInteractive',\n",
              "                                                     [key], {});\n",
              "          if (!dataTable) return;\n",
              "\n",
              "          const docLinkHtml = 'Like what you see? Visit the ' +\n",
              "            '<a target=\"_blank\" href=https://colab.research.google.com/notebooks/data_table.ipynb>data table notebook</a>'\n",
              "            + ' to learn more about interactive tables.';\n",
              "          element.innerHTML = '';\n",
              "          dataTable['output_type'] = 'display_data';\n",
              "          await google.colab.output.renderOutput(dataTable, element);\n",
              "          const docLink = document.createElement('div');\n",
              "          docLink.innerHTML = docLinkHtml;\n",
              "          element.appendChild(docLink);\n",
              "        }\n",
              "      </script>\n",
              "    </div>\n",
              "  </div>\n",
              "  "
            ]
          },
          "metadata": {},
          "execution_count": 28
        }
      ]
    },
    {
      "cell_type": "code",
      "source": [
        "r_variavel.corr().style.background_gradient(cmap='inferno') #mapa de correlação"
      ],
      "metadata": {
        "colab": {
          "base_uri": "https://localhost:8080/",
          "height": 230
        },
        "id": "yc_OMrhg2zS5",
        "outputId": "4757f824-f960-4d64-8d66-cae0b1c8dfa9"
      },
      "execution_count": 29,
      "outputs": [
        {
          "output_type": "stream",
          "name": "stderr",
          "text": [
            "<ipython-input-29-07074da39614>:1: FutureWarning: The default value of numeric_only in DataFrame.corr is deprecated. In a future version, it will default to False. Select only valid columns or specify the value of numeric_only to silence this warning.\n",
            "  r_variavel.corr().style.background_gradient(cmap='inferno') #mapa de correlação\n"
          ]
        },
        {
          "output_type": "execute_result",
          "data": {
            "text/plain": [
              "<pandas.io.formats.style.Styler at 0x7f0488455600>"
            ],
            "text/html": [
              "<style type=\"text/css\">\n",
              "#T_78663_row0_col0, #T_78663_row1_col1, #T_78663_row2_col2, #T_78663_row3_col3 {\n",
              "  background-color: #fcffa4;\n",
              "  color: #000000;\n",
              "}\n",
              "#T_78663_row0_col1, #T_78663_row0_col2, #T_78663_row2_col0, #T_78663_row2_col3 {\n",
              "  background-color: #000004;\n",
              "  color: #f1f1f1;\n",
              "}\n",
              "#T_78663_row0_col3 {\n",
              "  background-color: #1b0c41;\n",
              "  color: #f1f1f1;\n",
              "}\n",
              "#T_78663_row1_col0 {\n",
              "  background-color: #040314;\n",
              "  color: #f1f1f1;\n",
              "}\n",
              "#T_78663_row1_col2 {\n",
              "  background-color: #340a5f;\n",
              "  color: #f1f1f1;\n",
              "}\n",
              "#T_78663_row1_col3 {\n",
              "  background-color: #490b6a;\n",
              "  color: #f1f1f1;\n",
              "}\n",
              "#T_78663_row2_col1 {\n",
              "  background-color: #240c4f;\n",
              "  color: #f1f1f1;\n",
              "}\n",
              "#T_78663_row3_col0 {\n",
              "  background-color: #260c51;\n",
              "  color: #f1f1f1;\n",
              "}\n",
              "#T_78663_row3_col1 {\n",
              "  background-color: #470b6a;\n",
              "  color: #f1f1f1;\n",
              "}\n",
              "#T_78663_row3_col2 {\n",
              "  background-color: #040312;\n",
              "  color: #f1f1f1;\n",
              "}\n",
              "</style>\n",
              "<table id=\"T_78663\" class=\"dataframe\">\n",
              "  <thead>\n",
              "    <tr>\n",
              "      <th class=\"blank level0\" >&nbsp;</th>\n",
              "      <th id=\"T_78663_level0_col0\" class=\"col_heading level0 col0\" >AnoCalendario</th>\n",
              "      <th id=\"T_78663_level0_col1\" class=\"col_heading level0 col1\" >CodigoRegiao</th>\n",
              "      <th id=\"T_78663_level0_col2\" class=\"col_heading level0 col2\" >Atendida</th>\n",
              "      <th id=\"T_78663_level0_col3\" class=\"col_heading level0 col3\" >Semestres</th>\n",
              "    </tr>\n",
              "  </thead>\n",
              "  <tbody>\n",
              "    <tr>\n",
              "      <th id=\"T_78663_level0_row0\" class=\"row_heading level0 row0\" >AnoCalendario</th>\n",
              "      <td id=\"T_78663_row0_col0\" class=\"data row0 col0\" >1.000000</td>\n",
              "      <td id=\"T_78663_row0_col1\" class=\"data row0 col1\" >0.035471</td>\n",
              "      <td id=\"T_78663_row0_col2\" class=\"data row0 col2\" >-0.002583</td>\n",
              "      <td id=\"T_78663_row0_col3\" class=\"data row0 col3\" >0.136611</td>\n",
              "    </tr>\n",
              "    <tr>\n",
              "      <th id=\"T_78663_level0_row1\" class=\"row_heading level0 row1\" >CodigoRegiao</th>\n",
              "      <td id=\"T_78663_row1_col0\" class=\"data row1 col0\" >0.035471</td>\n",
              "      <td id=\"T_78663_row1_col1\" class=\"data row1 col1\" >1.000000</td>\n",
              "      <td id=\"T_78663_row1_col2\" class=\"data row1 col2\" >0.166623</td>\n",
              "      <td id=\"T_78663_row1_col3\" class=\"data row1 col3\" >0.240163</td>\n",
              "    </tr>\n",
              "    <tr>\n",
              "      <th id=\"T_78663_level0_row2\" class=\"row_heading level0 row2\" >Atendida</th>\n",
              "      <td id=\"T_78663_row2_col0\" class=\"data row2 col0\" >-0.002583</td>\n",
              "      <td id=\"T_78663_row2_col1\" class=\"data row2 col1\" >0.166623</td>\n",
              "      <td id=\"T_78663_row2_col2\" class=\"data row2 col2\" >1.000000</td>\n",
              "      <td id=\"T_78663_row2_col3\" class=\"data row2 col3\" >0.028887</td>\n",
              "    </tr>\n",
              "    <tr>\n",
              "      <th id=\"T_78663_level0_row3\" class=\"row_heading level0 row3\" >Semestres</th>\n",
              "      <td id=\"T_78663_row3_col0\" class=\"data row3 col0\" >0.136611</td>\n",
              "      <td id=\"T_78663_row3_col1\" class=\"data row3 col1\" >0.240163</td>\n",
              "      <td id=\"T_78663_row3_col2\" class=\"data row3 col2\" >0.028887</td>\n",
              "      <td id=\"T_78663_row3_col3\" class=\"data row3 col3\" >1.000000</td>\n",
              "    </tr>\n",
              "  </tbody>\n",
              "</table>\n"
            ]
          },
          "metadata": {},
          "execution_count": 29
        }
      ]
    },
    {
      "cell_type": "code",
      "source": [
        "fig,ax = plt.subplots(figsize=(6,5))\n",
        "_=sns.heatmap(r_variavel.corr(),linewidth=0.4,annot=True)"
      ],
      "metadata": {
        "colab": {
          "base_uri": "https://localhost:8080/",
          "height": 594
        },
        "id": "S6OkcoO6H5e5",
        "outputId": "80171d49-9597-46a1-e576-10124368127b"
      },
      "execution_count": 30,
      "outputs": [
        {
          "output_type": "stream",
          "name": "stderr",
          "text": [
            "<ipython-input-30-e2f9e3aaf250>:2: FutureWarning: The default value of numeric_only in DataFrame.corr is deprecated. In a future version, it will default to False. Select only valid columns or specify the value of numeric_only to silence this warning.\n",
            "  _=sns.heatmap(r_variavel.corr(),linewidth=0.4,annot=True)\n"
          ]
        },
        {
          "output_type": "display_data",
          "data": {
            "text/plain": [
              "<Figure size 600x500 with 2 Axes>"
            ],
            "image/png": "[encoded data removed]"
          },
          "metadata": {}
        }
      ]
    },
    {
      "cell_type": "markdown",
      "source": [
        "# **TREINO E TESTE**"
      ],
      "metadata": {
        "id": "1Lps4UPCazrf"
      }
    },
    {
      "cell_type": "code",
      "source": [
        "r_treino = r_variavel #inicia nova variavel para treino e teste"
      ],
      "metadata": {
        "id": "_yLcA4w73utS"
      },
      "execution_count": 31,
      "outputs": []
    },
    {
      "cell_type": "code",
      "source": [
        "from sklearn.tree import DecisionTreeClassifier\n",
        "from sklearn.metrics import classification_report, confusion_matrix,accuracy_score\n",
        "from sklearn.model_selection import train_test_split\n",
        "\n",
        "\n",
        "X_train, X_test, y_train, y_test = train_test_split(r_treino.drop(['Atendida'], axis=1), \n",
        "                                                   r_treino['Atendida'], test_size=0.30, \n",
        "                                                    random_state=100)\n",
        "arvore = DecisionTreeClassifier(random_state=10)\n",
        "modelo = arvore.fit(X_train, y_train)\n",
        "previsoes = modelo.predict(X_test)\n",
        "previsoes[0:10]"
      ],
      "metadata": {
        "colab": {
          "base_uri": "https://localhost:8080/"
        },
        "id": "MSaQ9xk9bBkl",
        "outputId": "5d9ca3f9-0a03-4d5f-ca00-e71f9e93e6f7"
      },
      "execution_count": 32,
      "outputs": [
        {
          "output_type": "execute_result",
          "data": {
            "text/plain": [
              "array([0., 0., 0., 0., 0., 1., 0., 1., 1., 1.])"
            ]
          },
          "metadata": {},
          "execution_count": 32
        }
      ]
    },
    {
      "cell_type": "code",
      "source": [
        "cnf_matrix = confusion_matrix(y_test, previsoes, labels=[1,0])\n",
        "print(\"Matriz de Confusão: \\n\")\n",
        "cnf_matrix # Matriz de confusão"
      ],
      "metadata": {
        "colab": {
          "base_uri": "https://localhost:8080/"
        },
        "id": "3_ERrPdFeUt-",
        "outputId": "87372cd9-a2f1-46c8-bc53-66ed77d3f298"
      },
      "execution_count": 33,
      "outputs": [
        {
          "output_type": "stream",
          "name": "stdout",
          "text": [
            "Matriz de Confusão: \n",
            "\n"
          ]
        },
        {
          "output_type": "execute_result",
          "data": {
            "text/plain": [
              "array([[12674,  5209],\n",
              "       [ 5255,  7987]])"
            ]
          },
          "metadata": {},
          "execution_count": 33
        }
      ]
    },
    {
      "cell_type": "code",
      "source": [
        "from sklearn.metrics import ConfusionMatrixDisplay\n",
        "ConfusionMatrixDisplay.from_estimator(modelo, X_test, y_test, labels=[1,0])\n",
        "plt.title(\"Matriz de Atendimento\")\n",
        "plt.show()"
      ],
      "metadata": {
        "colab": {
          "base_uri": "https://localhost:8080/",
          "height": 472
        },
        "id": "IoJBmuvJeaIm",
        "outputId": "fb371b48-6182-46d2-ce44-ff2dd77ec5f7"
      },
      "execution_count": 34,
      "outputs": [
        {
          "output_type": "display_data",
          "data": {
            "text/plain": [
              "<Figure size 640x480 with 2 Axes>"
            ],
            "image/png": "[encoded data removed]"
          },
          "metadata": {}
        }
      ]
    },
    {
      "cell_type": "code",
      "source": [
        "acuracia_atendimentos = accuracy_score(previsoes, y_test) * 100 \n",
        "score_atendimentos = arvore.score(X_test,y_test) *100\n",
        "print(\"Acurácia de Atendimentos é de %d%%\" %acuracia_atendimentos)\n",
        "print(\"Taxa de Acerto é de %d%%\" %score_atendimentos)"
      ],
      "metadata": {
        "colab": {
          "base_uri": "https://localhost:8080/"
        },
        "id": "oSSCyQDy0b1B",
        "outputId": "605582ab-d34f-40b1-822c-0233b88e8c8b"
      },
      "execution_count": 35,
      "outputs": [
        {
          "output_type": "stream",
          "name": "stdout",
          "text": [
            "Acurácia de Atendimentos é de 66%\n",
            "Taxa de Acerto é de 66%\n"
          ]
        }
      ]
    },
    {
      "cell_type": "code",
      "source": [],
      "metadata": {
        "id": "-5qWyCBsLvIP"
      },
      "execution_count": 35,
      "outputs": []
    },
    {
      "cell_type": "code",
      "source": [],
      "metadata": {
        "id": "fkwY7961Lw1f"
      },
      "execution_count": 35,
      "outputs": []
    }
  ]
}