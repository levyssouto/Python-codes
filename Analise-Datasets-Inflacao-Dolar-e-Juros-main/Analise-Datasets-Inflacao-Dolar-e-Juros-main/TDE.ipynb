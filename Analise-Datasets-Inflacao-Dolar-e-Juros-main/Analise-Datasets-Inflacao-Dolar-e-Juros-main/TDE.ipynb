{
  "nbformat": 4,
  "nbformat_minor": 0,
  "metadata": {
    "colab": {
      "provenance": []
    },
    "kernelspec": {
      "name": "python3",
      "display_name": "Python 3"
    },
    "language_info": {
      "name": "python"
    }
  },
  "cells": [
    {
      "cell_type": "code",
      "execution_count": null,
      "metadata": {
        "id": "F4nzcTjmt8ij"
      },
      "outputs": [],
      "source": [
        "import matplotlib.pyplot as plt #importa bibliotecas que serão utilizadas\n",
        "import numpy as np\n",
        "import pandas as pd"
      ]
    },
    {
      "cell_type": "code",
      "source": [
        "from google.colab import drive #trecho de código carrega google drive\n",
        "drive.mount('/content/drive')#utiliza método mount para carregar conteúdo do google drive"
      ],
      "metadata": {
        "colab": {
          "base_uri": "https://localhost:8080/"
        },
        "id": "LYeZ3uB_uXzf",
        "outputId": "d5a51e65-f77a-480c-e6f2-327bd02809da"
      },
      "execution_count": null,
      "outputs": [
        {
          "output_type": "stream",
          "name": "stdout",
          "text": [
            "Mounted at /content/drive\n"
          ]
        }
      ]
    },
    {
      "cell_type": "markdown",
      "source": [],
      "metadata": {
        "id": "WFa0LZpkP7uZ"
      }
    },
    {
      "cell_type": "markdown",
      "source": [
        "# **COTAÇÃO DÓLAR**"
      ],
      "metadata": {
        "id": "1--41X9tiZYl"
      }
    },
    {
      "cell_type": "code",
      "source": [
        "\"\"\"TRATANDO DADOS\n",
        "arrumando datasets para manipulação\"\"\"\n",
        "\n",
        "dolar= pd.read_csv('/content/drive/MyDrive/TDE/Cotação do Dólar por período.csv')#instancia um objeto da classe pandas.core.frame.DataFrame pelo método read_csv\n",
        "# capaz de ler arquivos .csv, recebe path do dataset no drive como parâmetro\n",
        "\n",
        "\n",
        "dolar = dolar.replace(',','.',regex = True).astype(float)#método replace substitui valores do dataset de maneira dinâmica, no caso transfomando valores \n",
        "#de String para float. Recebe como parêmetro os valores a serem susbstitídos, e método astype muda o tipo de uma série de dados\n",
        "\n",
        "dolar = dolar.reset_index()#método reset_index cria uma nova coluna a partir do índice anterior com o numero de dias\n",
        "\n",
        "dolar = dolar.rename({'index': 'Dias'},axis=1)#método rename renomeia a nova coluna criada recebendo um dicionário como parâmetro\n",
        "\n",
        "print(dolar.info())#método info não recebe parâmetros e retorna um sumário conciso sobre o dataset instanciado \n",
        "\n",
        "print(\"\\ntipo do objeto dolar: \", type(dolar))# função type retorna o tipo do objeto dolar, no caso sua classe"
      ],
      "metadata": {
        "colab": {
          "base_uri": "https://localhost:8080/"
        },
        "id": "8cKOVI1oe364",
        "outputId": "54866625-5943-44b8-b329-0beaf7a3f5f1"
      },
      "execution_count": null,
      "outputs": [
        {
          "output_type": "stream",
          "name": "stdout",
          "text": [
            "<class 'pandas.core.frame.DataFrame'>\n",
            "RangeIndex: 756 entries, 0 to 755\n",
            "Data columns (total 3 columns):\n",
            " #   Column         Non-Null Count  Dtype  \n",
            "---  ------         --------------  -----  \n",
            " 0   Dias           756 non-null    int64  \n",
            " 1   cotacaoCompra  756 non-null    float64\n",
            " 2   cotacaoVenda   756 non-null    float64\n",
            "dtypes: float64(2), int64(1)\n",
            "memory usage: 17.8 KB\n",
            "None\n",
            "\n",
            "tipo do objeto dolar:  <class 'pandas.core.frame.DataFrame'>\n"
          ]
        }
      ]
    },
    {
      "cell_type": "code",
      "source": [
        "dolar.head() #método head retorna 5 primeiras linhas do dataset"
      ],
      "metadata": {
        "colab": {
          "base_uri": "https://localhost:8080/",
          "height": 206
        },
        "id": "9pu-UeirZyeS",
        "outputId": "eaf972f7-a077-41b3-a8e3-c0f2832deb7d"
      },
      "execution_count": null,
      "outputs": [
        {
          "output_type": "execute_result",
          "data": {
            "text/plain": [
              "   Dias  cotacaoCompra  cotacaoVenda\n",
              "0     0         3.7670        3.7676\n",
              "1     1         3.7364        3.7370\n",
              "2     2         3.7145        3.7151\n",
              "3     3         3.6513        3.6519\n",
              "4     4         3.6688        3.6694"
            ],
            "text/html": [
              "\n",
              "  <div id=\"df-16466b08-90e1-4ad0-b53b-ca451bfc872d\">\n",
              "    <div class=\"colab-df-container\">\n",
              "      <div>\n",
              "<style scoped>\n",
              "    .dataframe tbody tr th:only-of-type {\n",
              "        vertical-align: middle;\n",
              "    }\n",
              "\n",
              "    .dataframe tbody tr th {\n",
              "        vertical-align: top;\n",
              "    }\n",
              "\n",
              "    .dataframe thead th {\n",
              "        text-align: right;\n",
              "    }\n",
              "</style>\n",
              "<table border=\"1\" class=\"dataframe\">\n",
              "  <thead>\n",
              "    <tr style=\"text-align: right;\">\n",
              "      <th></th>\n",
              "      <th>Dias</th>\n",
              "      <th>cotacaoCompra</th>\n",
              "      <th>cotacaoVenda</th>\n",
              "    </tr>\n",
              "  </thead>\n",
              "  <tbody>\n",
              "    <tr>\n",
              "      <th>0</th>\n",
              "      <td>0</td>\n",
              "      <td>3.7670</td>\n",
              "      <td>3.7676</td>\n",
              "    </tr>\n",
              "    <tr>\n",
              "      <th>1</th>\n",
              "      <td>1</td>\n",
              "      <td>3.7364</td>\n",
              "      <td>3.7370</td>\n",
              "    </tr>\n",
              "    <tr>\n",
              "      <th>2</th>\n",
              "      <td>2</td>\n",
              "      <td>3.7145</td>\n",
              "      <td>3.7151</td>\n",
              "    </tr>\n",
              "    <tr>\n",
              "      <th>3</th>\n",
              "      <td>3</td>\n",
              "      <td>3.6513</td>\n",
              "      <td>3.6519</td>\n",
              "    </tr>\n",
              "    <tr>\n",
              "      <th>4</th>\n",
              "      <td>4</td>\n",
              "      <td>3.6688</td>\n",
              "      <td>3.6694</td>\n",
              "    </tr>\n",
              "  </tbody>\n",
              "</table>\n",
              "</div>\n",
              "      <button class=\"colab-df-convert\" onclick=\"convertToInteractive('df-16466b08-90e1-4ad0-b53b-ca451bfc872d')\"\n",
              "              title=\"Convert this dataframe to an interactive table.\"\n",
              "              style=\"display:none;\">\n",
              "        \n",
              "  <svg xmlns=\"http://www.w3.org/2000/svg\" height=\"24px\"viewBox=\"0 0 24 24\"\n",
              "       width=\"24px\">\n",
              "    <path d=\"M0 0h24v24H0V0z\" fill=\"none\"/>\n",
              "    <path d=\"M18.56 5.44l.94 2.06.94-2.06 2.06-.94-2.06-.94-.94-2.06-.94 2.06-2.06.94zm-11 1L8.5 8.5l.94-2.06 2.06-.94-2.06-.94L8.5 2.5l-.94 2.06-2.06.94zm10 10l.94 2.06.94-2.06 2.06-.94-2.06-.94-.94-2.06-.94 2.06-2.06.94z\"/><path d=\"M17.41 7.96l-1.37-1.37c-.4-.4-.92-.59-1.43-.59-.52 0-1.04.2-1.43.59L10.3 9.45l-7.72 7.72c-.78.78-.78 2.05 0 2.83L4 21.41c.39.39.9.59 1.41.59.51 0 1.02-.2 1.41-.59l7.78-7.78 2.81-2.81c.8-.78.8-2.07 0-2.86zM5.41 20L4 18.59l7.72-7.72 1.47 1.35L5.41 20z\"/>\n",
              "  </svg>\n",
              "      </button>\n",
              "      \n",
              "  <style>\n",
              "    .colab-df-container {\n",
              "      display:flex;\n",
              "      flex-wrap:wrap;\n",
              "      gap: 12px;\n",
              "    }\n",
              "\n",
              "    .colab-df-convert {\n",
              "      background-color: #E8F0FE;\n",
              "      border: none;\n",
              "      border-radius: 50%;\n",
              "      cursor: pointer;\n",
              "      display: none;\n",
              "      fill: #1967D2;\n",
              "      height: 32px;\n",
              "      padding: 0 0 0 0;\n",
              "      width: 32px;\n",
              "    }\n",
              "\n",
              "    .colab-df-convert:hover {\n",
              "      background-color: #E2EBFA;\n",
              "      box-shadow: 0px 1px 2px rgba(60, 64, 67, 0.3), 0px 1px 3px 1px rgba(60, 64, 67, 0.15);\n",
              "      fill: #174EA6;\n",
              "    }\n",
              "\n",
              "    [theme=dark] .colab-df-convert {\n",
              "      background-color: #3B4455;\n",
              "      fill: #D2E3FC;\n",
              "    }\n",
              "\n",
              "    [theme=dark] .colab-df-convert:hover {\n",
              "      background-color: #434B5C;\n",
              "      box-shadow: 0px 1px 3px 1px rgba(0, 0, 0, 0.15);\n",
              "      filter: drop-shadow(0px 1px 2px rgba(0, 0, 0, 0.3));\n",
              "      fill: #FFFFFF;\n",
              "    }\n",
              "  </style>\n",
              "\n",
              "      <script>\n",
              "        const buttonEl =\n",
              "          document.querySelector('#df-16466b08-90e1-4ad0-b53b-ca451bfc872d button.colab-df-convert');\n",
              "        buttonEl.style.display =\n",
              "          google.colab.kernel.accessAllowed ? 'block' : 'none';\n",
              "\n",
              "        async function convertToInteractive(key) {\n",
              "          const element = document.querySelector('#df-16466b08-90e1-4ad0-b53b-ca451bfc872d');\n",
              "          const dataTable =\n",
              "            await google.colab.kernel.invokeFunction('convertToInteractive',\n",
              "                                                     [key], {});\n",
              "          if (!dataTable) return;\n",
              "\n",
              "          const docLinkHtml = 'Like what you see? Visit the ' +\n",
              "            '<a target=\"_blank\" href=https://colab.research.google.com/notebooks/data_table.ipynb>data table notebook</a>'\n",
              "            + ' to learn more about interactive tables.';\n",
              "          element.innerHTML = '';\n",
              "          dataTable['output_type'] = 'display_data';\n",
              "          await google.colab.output.renderOutput(dataTable, element);\n",
              "          const docLink = document.createElement('div');\n",
              "          docLink.innerHTML = docLinkHtml;\n",
              "          element.appendChild(docLink);\n",
              "        }\n",
              "      </script>\n",
              "    </div>\n",
              "  </div>\n",
              "  "
            ]
          },
          "metadata": {},
          "execution_count": 4
        }
      ]
    },
    {
      "cell_type": "code",
      "source": [
        "a = np.array(dolar[\"cotacaoCompra\"])#  instancia um objeto da classe numpy.ndarray, recebe como parâmetro o objeto dataframe instanciado anteriormente\n",
        "#com a coluna da cotacao do dólar.\n",
        "\n",
        "#modulo plt\n",
        "plt.title('Dólar entre janeiro de 2019 e 2022')# utiliza método title para plotar título do gráfico\n",
        "\n",
        "plt.xlabel('Dias') #metodo xlabel define nome para eixo x\n",
        "\n",
        "plt.ylabel('Variação')# metodo ylabel define nome para eixo y\n",
        "\n",
        "plt.plot(a,color = 'green')# método plot cria gráfico, recebendo; x = dias; y = dólar "
      ],
      "metadata": {
        "id": "u9Mb6R2yeZyZ",
        "colab": {
          "base_uri": "https://localhost:8080/",
          "height": 312
        },
        "outputId": "577444fd-e2a9-42a6-b859-3c9926574a7d"
      },
      "execution_count": null,
      "outputs": [
        {
          "output_type": "execute_result",
          "data": {
            "text/plain": [
              "[<matplotlib.lines.Line2D at 0x7f447666f280>]"
            ]
          },
          "metadata": {},
          "execution_count": 5
        },
        {
          "output_type": "display_data",
          "data": {
            "text/plain": [
              "<Figure size 432x288 with 1 Axes>"
            ],
            "image/png": "[encoded data removed]"
          },
          "metadata": {
            "needs_background": "light"
          }
        }
      ]
    },
    {
      "cell_type": "code",
      "source": [
        "dolar['cotacaoCompra'].describe() # método describe do pandas retorna informações estatisticas"
      ],
      "metadata": {
        "colab": {
          "base_uri": "https://localhost:8080/"
        },
        "id": "_XiD9y-VKIbW",
        "outputId": "61bdacfa-67e9-4406-dd69-50185e41481e"
      },
      "execution_count": null,
      "outputs": [
        {
          "output_type": "execute_result",
          "data": {
            "text/plain": [
              "count    756.000000\n",
              "mean       4.874085\n",
              "std        0.695159\n",
              "min        3.651300\n",
              "25%        4.100250\n",
              "50%        5.196650\n",
              "75%        5.444075\n",
              "max        5.936600\n",
              "Name: cotacaoCompra, dtype: float64"
            ]
          },
          "metadata": {},
          "execution_count": 6
        }
      ]
    },
    {
      "cell_type": "markdown",
      "source": [
        "# **IPCA**"
      ],
      "metadata": {
        "id": "LeSqQ4T1csRP"
      }
    },
    {
      "cell_type": "code",
      "source": [
        "ipca = pd.read_csv('/content/drive/MyDrive/TDE/IPCA_arrumado.csv',sep=';', names = [\"Data\", \"Taxa\"])#instancia um objeto da classe pandas.core.frame.DataFrame pelo método read_csv\n",
        "#recebe path do dataset no drive como parâmetro, também um caractere separador de colunas e os nomes das colunas\n",
        "\n",
        "\n",
        "ipca = ipca.reset_index()# método reset_index cria uma nova coluna a partir do índice anterior com o numero de meses\n",
        "\n",
        "ipca = ipca.rename({'index': 'Meses'},axis=1)# método rename renomeia a nova coluna criada recebendo um dicionário como parâmetro, e o eixo da coluna\n",
        "\n",
        "ipca = ipca.iloc[295:332] # método iloc de seleção de dados em lista\n",
        "\n",
        "data_types_dict = {'Taxa': float}# cria dicionario para mudar o tipo de dado da coluna selecionada\n",
        "\n",
        "ipca = ipca.astype(data_types_dict)# método astype do pandas altera o tipo de dado de uma séria, recebe um dicionário como parâmetro\n",
        "\n",
        "ipca.head()#método head retorna 5 primeiras linhas da base de dados sobre índice IPCA"
      ],
      "metadata": {
        "id": "F2B7B9bHbs_P",
        "colab": {
          "base_uri": "https://localhost:8080/",
          "height": 206
        },
        "outputId": "a3ce111f-96ce-4572-b06a-65789fc45b1a"
      },
      "execution_count": null,
      "outputs": [
        {
          "output_type": "execute_result",
          "data": {
            "text/plain": [
              "     Meses            Data  Taxa\n",
              "295    295    janeiro 2019  0.32\n",
              "296    296  fevereiro 2019  0.43\n",
              "297    297      março 2019  0.75\n",
              "298    298      abril 2019  0.57\n",
              "299    299       maio 2019  0.13"
            ],
            "text/html": [
              "\n",
              "  <div id=\"df-bf3169af-e09f-41ee-b4d8-72cefc602c9e\">\n",
              "    <div class=\"colab-df-container\">\n",
              "      <div>\n",
              "<style scoped>\n",
              "    .dataframe tbody tr th:only-of-type {\n",
              "        vertical-align: middle;\n",
              "    }\n",
              "\n",
              "    .dataframe tbody tr th {\n",
              "        vertical-align: top;\n",
              "    }\n",
              "\n",
              "    .dataframe thead th {\n",
              "        text-align: right;\n",
              "    }\n",
              "</style>\n",
              "<table border=\"1\" class=\"dataframe\">\n",
              "  <thead>\n",
              "    <tr style=\"text-align: right;\">\n",
              "      <th></th>\n",
              "      <th>Meses</th>\n",
              "      <th>Data</th>\n",
              "      <th>Taxa</th>\n",
              "    </tr>\n",
              "  </thead>\n",
              "  <tbody>\n",
              "    <tr>\n",
              "      <th>295</th>\n",
              "      <td>295</td>\n",
              "      <td>janeiro 2019</td>\n",
              "      <td>0.32</td>\n",
              "    </tr>\n",
              "    <tr>\n",
              "      <th>296</th>\n",
              "      <td>296</td>\n",
              "      <td>fevereiro 2019</td>\n",
              "      <td>0.43</td>\n",
              "    </tr>\n",
              "    <tr>\n",
              "      <th>297</th>\n",
              "      <td>297</td>\n",
              "      <td>março 2019</td>\n",
              "      <td>0.75</td>\n",
              "    </tr>\n",
              "    <tr>\n",
              "      <th>298</th>\n",
              "      <td>298</td>\n",
              "      <td>abril 2019</td>\n",
              "      <td>0.57</td>\n",
              "    </tr>\n",
              "    <tr>\n",
              "      <th>299</th>\n",
              "      <td>299</td>\n",
              "      <td>maio 2019</td>\n",
              "      <td>0.13</td>\n",
              "    </tr>\n",
              "  </tbody>\n",
              "</table>\n",
              "</div>\n",
              "      <button class=\"colab-df-convert\" onclick=\"convertToInteractive('df-bf3169af-e09f-41ee-b4d8-72cefc602c9e')\"\n",
              "              title=\"Convert this dataframe to an interactive table.\"\n",
              "              style=\"display:none;\">\n",
              "        \n",
              "  <svg xmlns=\"http://www.w3.org/2000/svg\" height=\"24px\"viewBox=\"0 0 24 24\"\n",
              "       width=\"24px\">\n",
              "    <path d=\"M0 0h24v24H0V0z\" fill=\"none\"/>\n",
              "    <path d=\"M18.56 5.44l.94 2.06.94-2.06 2.06-.94-2.06-.94-.94-2.06-.94 2.06-2.06.94zm-11 1L8.5 8.5l.94-2.06 2.06-.94-2.06-.94L8.5 2.5l-.94 2.06-2.06.94zm10 10l.94 2.06.94-2.06 2.06-.94-2.06-.94-.94-2.06-.94 2.06-2.06.94z\"/><path d=\"M17.41 7.96l-1.37-1.37c-.4-.4-.92-.59-1.43-.59-.52 0-1.04.2-1.43.59L10.3 9.45l-7.72 7.72c-.78.78-.78 2.05 0 2.83L4 21.41c.39.39.9.59 1.41.59.51 0 1.02-.2 1.41-.59l7.78-7.78 2.81-2.81c.8-.78.8-2.07 0-2.86zM5.41 20L4 18.59l7.72-7.72 1.47 1.35L5.41 20z\"/>\n",
              "  </svg>\n",
              "      </button>\n",
              "      \n",
              "  <style>\n",
              "    .colab-df-container {\n",
              "      display:flex;\n",
              "      flex-wrap:wrap;\n",
              "      gap: 12px;\n",
              "    }\n",
              "\n",
              "    .colab-df-convert {\n",
              "      background-color: #E8F0FE;\n",
              "      border: none;\n",
              "      border-radius: 50%;\n",
              "      cursor: pointer;\n",
              "      display: none;\n",
              "      fill: #1967D2;\n",
              "      height: 32px;\n",
              "      padding: 0 0 0 0;\n",
              "      width: 32px;\n",
              "    }\n",
              "\n",
              "    .colab-df-convert:hover {\n",
              "      background-color: #E2EBFA;\n",
              "      box-shadow: 0px 1px 2px rgba(60, 64, 67, 0.3), 0px 1px 3px 1px rgba(60, 64, 67, 0.15);\n",
              "      fill: #174EA6;\n",
              "    }\n",
              "\n",
              "    [theme=dark] .colab-df-convert {\n",
              "      background-color: #3B4455;\n",
              "      fill: #D2E3FC;\n",
              "    }\n",
              "\n",
              "    [theme=dark] .colab-df-convert:hover {\n",
              "      background-color: #434B5C;\n",
              "      box-shadow: 0px 1px 3px 1px rgba(0, 0, 0, 0.15);\n",
              "      filter: drop-shadow(0px 1px 2px rgba(0, 0, 0, 0.3));\n",
              "      fill: #FFFFFF;\n",
              "    }\n",
              "  </style>\n",
              "\n",
              "      <script>\n",
              "        const buttonEl =\n",
              "          document.querySelector('#df-bf3169af-e09f-41ee-b4d8-72cefc602c9e button.colab-df-convert');\n",
              "        buttonEl.style.display =\n",
              "          google.colab.kernel.accessAllowed ? 'block' : 'none';\n",
              "\n",
              "        async function convertToInteractive(key) {\n",
              "          const element = document.querySelector('#df-bf3169af-e09f-41ee-b4d8-72cefc602c9e');\n",
              "          const dataTable =\n",
              "            await google.colab.kernel.invokeFunction('convertToInteractive',\n",
              "                                                     [key], {});\n",
              "          if (!dataTable) return;\n",
              "\n",
              "          const docLinkHtml = 'Like what you see? Visit the ' +\n",
              "            '<a target=\"_blank\" href=https://colab.research.google.com/notebooks/data_table.ipynb>data table notebook</a>'\n",
              "            + ' to learn more about interactive tables.';\n",
              "          element.innerHTML = '';\n",
              "          dataTable['output_type'] = 'display_data';\n",
              "          await google.colab.output.renderOutput(dataTable, element);\n",
              "          const docLink = document.createElement('div');\n",
              "          docLink.innerHTML = docLinkHtml;\n",
              "          element.appendChild(docLink);\n",
              "        }\n",
              "      </script>\n",
              "    </div>\n",
              "  </div>\n",
              "  "
            ]
          },
          "metadata": {},
          "execution_count": 7
        }
      ]
    },
    {
      "cell_type": "code",
      "source": [
        "taxa = np.array(ipca[\"Taxa\"])#  instancia um objeto da classe numpy.ndarray, recebe como parâmetro o objeto dataframe instanciado anteriormente\n",
        "#com a coluna do IPCA.\n",
        "plt.title('IPCA entre janeiro de 2019 e 2022')# utiliza método title para plotar título do gráfico\n",
        "\n",
        "plt.xlabel('Meses')# metodo xlabel define nome para eixo x\n",
        "\n",
        "\n",
        "plt.ylabel('Variação')# metodo ylabel define nome para eixo y\n",
        "\n",
        "\n",
        "plt.plot(taxa,color = 'blue',marker = 'o')# método plot cria gráfico, recebe um objeto numpy.ndarray, uma cor e um marcador como parâmetros;\n",
        "# x = meses; y = IPCA\n",
        "\n",
        "plt.grid('True') # método grid cria uma grade no plano de fundo do gráfico, default = 'False', recebe parâmetro String 'True' ou 'False'.\n",
        "\n",
        "plt.show()# método show apresenta último gráfico criado com o módulo plt"
      ],
      "metadata": {
        "colab": {
          "base_uri": "https://localhost:8080/",
          "height": 295
        },
        "id": "ebmW6L-hsa7P",
        "outputId": "e316e73b-71f5-480d-a585-d46a658c4b9a"
      },
      "execution_count": null,
      "outputs": [
        {
          "output_type": "display_data",
          "data": {
            "text/plain": [
              "<Figure size 432x288 with 1 Axes>"
            ],
            "image/png": "[encoded data removed]"
          },
          "metadata": {
            "needs_background": "light"
          }
        }
      ]
    },
    {
      "cell_type": "code",
      "source": [
        "display(ipca['Taxa'].describe())# método describe do pandas retorna informações estatisticas"
      ],
      "metadata": {
        "colab": {
          "base_uri": "https://localhost:8080/",
          "height": 173
        },
        "id": "0ci1DGMS4rg7",
        "outputId": "74311f5b-c96c-4835-a5e4-cacf0ba2433f"
      },
      "execution_count": null,
      "outputs": [
        {
          "output_type": "display_data",
          "data": {
            "text/plain": [
              "count    37.000000\n",
              "mean      0.509189\n",
              "std       0.430054\n",
              "min      -0.380000\n",
              "25%       0.210000\n",
              "50%       0.510000\n",
              "75%       0.860000\n",
              "max       1.350000\n",
              "Name: Taxa, dtype: float64"
            ]
          },
          "metadata": {}
        }
      ]
    },
    {
      "cell_type": "markdown",
      "source": [
        "# **TAXA SELIC**"
      ],
      "metadata": {
        "id": "hZzxRueuLiKO"
      }
    },
    {
      "cell_type": "code",
      "source": [
        "selic = pd.read_csv('/content/drive/MyDrive/TDE/taxa_selic.csv',sep=';') # instancia um objeto da classe pandas.core.frame.DataFrame pelo método read_csv\n",
        "#recebe path do dataset no drive como parâmetro, também um caractere separador de colunas\n",
        "\n",
        "\n",
        "selic = selic.rename({'11 - Taxa de juros - Selic - % a.d.': 'Taxa Selic'},axis=1)# método rename renomeia a nova coluna criada recebendo um dicionário como parâmetro\n",
        "\n",
        "selic = selic.drop([776],axis=0)# método drop retira linha ou coluna do dataframe e recebe como parâmetro uma seleção e um eixo, foi removida a última linha.\n",
        "\n",
        "selic['Taxa Selic'] = selic['Taxa Selic'].replace(',','.',regex = True).astype(float)#método replace substitui valores do dataset de maneira dinâmica, no caso transfomando valores \n",
        "#de String para float. Recebe como parêmetro os valores a serem susbstitídos, e método astype muda o tipo da série de dados\n",
        "\n",
        "selic = selic.reset_index()# método reset_index cria uma nova coluna a partir do índice anterior com o numero de dias\n",
        "\n",
        "selic = selic.rename({'index': 'Dias'},axis=1)# método rename renomeia a nova coluna criada recebendo um dicionário como parâmetro\n",
        "\n",
        "selic = selic[0:757]# seleciona os 756 dias"
      ],
      "metadata": {
        "id": "sFL62gOZWuKo"
      },
      "execution_count": null,
      "outputs": []
    },
    {
      "cell_type": "code",
      "source": [
        "# Gráfico de Barras\n",
        "c=np.array(selic['Dias'])#  instancia um objeto da classe numpy.ndarray, recebe como parâmetro o objeto dataframe instanciado anteriormente\n",
        "#com a coluna do IPCA. c = dias\n",
        "\n",
        "d=np.array(selic[\"Taxa Selic\"])#  instancia um objeto da classe numpy.ndarray, recebe como parâmetro o objeto dataframe instanciado anteriormente\n",
        "#com a coluna do IPCA. d = variação selic\n",
        "\n",
        "plt.title('Selic entre janeiro de 2019 e 2022')# utiliza método title para plotar título do gráfico\n",
        "\n",
        "plt.xlabel('Dias')# metodo xlabel define nome para eixo x\n",
        "\n",
        "plt.ylabel('Variação')# metodo ylabel define nome para eixo y\n",
        "\n",
        "plt.bar(c,d,width=1,color='red')# método bar cria um gráfico de barras recebe como parâmetros os eixos x,y; a largura das barras, e a cor\n",
        "\n",
        "plt.grid('True')# método grid cria uma grade no plano de fundo\n",
        "\n",
        "plt.show()# método show apresenta último gráfico criado com o módulo plt\n"
      ],
      "metadata": {
        "colab": {
          "base_uri": "https://localhost:8080/",
          "height": 295
        },
        "id": "uq-uC9BoKuFO",
        "outputId": "e43b3e51-dc3b-4b54-87c3-7d0b3c988057"
      },
      "execution_count": null,
      "outputs": [
        {
          "output_type": "display_data",
          "data": {
            "text/plain": [
              "<Figure size 432x288 with 1 Axes>"
            ],
            "image/png": "[encoded data removed]"
          },
          "metadata": {
            "needs_background": "light"
          }
        }
      ]
    },
    {
      "cell_type": "code",
      "source": [
        "display(selic['Taxa Selic'].describe())# método describe do pandas retorna informações estatisticas"
      ],
      "metadata": {
        "colab": {
          "base_uri": "https://localhost:8080/",
          "height": 173
        },
        "id": "-LaiRQapumMa",
        "outputId": "67904ed9-1af8-4fa0-b741-c8bbffc97217"
      },
      "execution_count": null,
      "outputs": [
        {
          "output_type": "display_data",
          "data": {
            "text/plain": [
              "count    757.000000\n",
              "mean       0.017053\n",
              "std        0.007390\n",
              "min        0.007469\n",
              "25%        0.010379\n",
              "50%        0.017089\n",
              "75%        0.024620\n",
              "max        0.034749\n",
              "Name: Taxa Selic, dtype: float64"
            ]
          },
          "metadata": {}
        }
      ]
    }
  ]
}